{
 "cells": [
  {
   "cell_type": "markdown",
   "metadata": {
    "tags": [
     "title"
    ]
   },
   "source": [
    "# Aligning Technology with Pedagogical Goals: Digital Public History, Content Management Systems, and Minimalist Frameworks"
   ]
  },
  {
   "cell_type": "markdown",
   "metadata": {
    "tags": [
     "contributor"
    ]
   },
   "source": [
    " ### Christopher Thomas Goodwin [![orcid](https://orcid.org/sites/default/files/images/orcid_16x16.png)](https://orcid.org/0000-0003-0723-6369) \n",
    "University of Florida"
   ]
  },
  {
   "cell_type": "markdown",
   "metadata": {
    "tags": [
     "copyright"
    ]
   },
   "source": [
    "[![cc-by](https://licensebuttons.net/l/by/4.0/88x31.png)](https://creativecommons.org/licenses/by/4.0/) \n",
    "©<AUTHOR or ORGANIZATION / FUNDER>. Published by De Gruyter in cooperation with the University of Luxembourg Centre for Contemporary and Digital History. This is an Open Access article distributed under the terms of the [Creative Commons Attribution License CC-BY](https://creativecommons.org/licenses/by/4.0/)\n"
   ]
  },
  {
   "cell_type": "code",
   "execution_count": 6,
   "metadata": {
    "tags": [
     "cover"
    ]
   },
   "outputs": [
    {
     "data": {
      "image/png": "[encoded data removed]",
      "text/plain": [
       "<IPython.core.display.Image object>"
      ]
     },
     "metadata": {},
     "output_type": "display_data"
    }
   ],
   "source": [
    "from IPython.display import Image, display\n",
    "\n",
    "display(Image(\"./media/placeholder.png\"))"
   ]
  },
  {
   "cell_type": "markdown",
   "metadata": {
    "tags": [
     "disclaimer"
    ]
   },
   "source": [
    " (optional) This article was orginally published (...)"
   ]
  },
  {
   "cell_type": "markdown",
   "metadata": {
    "editable": true,
    "slideshow": {
     "slide_type": ""
    },
    "tags": [
     "keywords"
    ]
   },
   "source": [
    "Pedagogy, Scalar, ScholarMinPub, minimalist, CMS"
   ]
  },
  {
   "cell_type": "markdown",
   "metadata": {
    "editable": true,
    "slideshow": {
     "slide_type": ""
    },
    "tags": [
     "abstract"
    ]
   },
   "source": [
    "This is an abstract (...)"
   ]
  },
  {
   "cell_type": "markdown",
   "metadata": {
    "editable": true,
    "slideshow": {
     "slide_type": ""
    },
    "tags": []
   },
   "source": [
    "## Introduction"
   ]
  },
  {
   "cell_type": "markdown",
   "metadata": {
    "editable": true,
    "slideshow": {
     "slide_type": ""
    },
    "tags": []
   },
   "source": [
    "More than ever, new job postings for history faculty in the United States emphasize applicants’ digital skills. Few call specifically for “digital historians,” but rather couch the preference as a significant complement to traditional areas of expertise. Hiring committees still prioritize historians with expertise in a specific nation-state or thematic area, yet digital skills are now widely recognized as a strategic imperative for two reasons. First, the changing American political landscape has intensified the need for public outreach, serving audiences eager for history but vulnerable to oversimplified political narratives. Second, declining humanities enrollments have placed some departments in struggles for their very existence. Building a faculty cohort with digital skills allows departments to demonstrate relevance in terms familiar to STEM disciplines: graduates leave with tangible, marketable competencies. The ability to critically think or closely read texts, the mainstays of history pedagogy, are appreciated, but without accompanying digital skills are a hard-sell to employers in a world where nearly every workplace runs on computer networks, databases, and applications. Pedagogical potential rather than digitally-focused research agendas drives much of the hiring in the field of digital history in the American academy."
   ]
  },
  {
   "cell_type": "markdown",
   "metadata": {
    "citation-manager": {
     "citations": {
      "meuwe": [
       {
        "id": "4951909/48VB3VBE",
        "source": "zotero"
       }
      ],
      "spof5": [
       {
        "id": "4951909/ICSTWWRP",
        "source": "zotero"
       }
      ]
     }
    },
    "editable": true,
    "slideshow": {
     "slide_type": ""
    },
    "tags": []
   },
   "source": [
    "Only recently has pedagogy occupied such a preeminent position in the hiring process. A little over a decade ago, Katherine D. Harris’s call for pedagogy to be central to the digital humanities, delivered at the seminal 2011 Modern Language Association Convention, barely registered a blip compared to discussions of cultural criticism or, especially, the prestige of coding <cite id=\"spof5\"><a href=\"#zotero%7C4951909%2FICSTWWRP\">(Croxall and Jakacki 2023)</a></cite>. The humanities—and especially the digital humanities—has not been immune to the prestige of code and the “engineer” figure that dazzles with distant reading and machine learning toolsets, though a number of historians have critiqued many of these techniques, especially when they have originated from disciplines such as Information Science <cite id=\"meuwe\"><a href=\"#zotero%7C4951909%2F48VB3VBE\">(Guldi 2023)</a></cite>. To some historians, machine learning models resemble opaque “black boxes” where statistics displaces close-reading and operates at a scale that defies comprehension. Given the historical misuse of statistics, many historians are wary of layers—human, code, and machine—that push them further from primary sources. The discipline has long defended the integrity of direct, critical engagement with evidence."
   ]
  },
  {
   "cell_type": "markdown",
   "metadata": {
    "citation-manager": {
     "citations": {
      "a208h": [
       {
        "id": "4951909/ZVWDRAGM",
        "source": "zotero"
       }
      ],
      "aqc0x": [
       {
        "id": "4951909/B99NN5IV",
        "source": "zotero"
       }
      ],
      "bdmr6": [
       {
        "id": "4951909/WJYK4N8X",
        "source": "zotero"
       }
      ],
      "diz59": [
       {
        "id": "4951909/I2BN9IN6",
        "source": "zotero"
       }
      ],
      "h9yyt": [
       {
        "id": "4951909/4TG9B4GK",
        "source": "zotero"
       }
      ],
      "oaddn": [
       {
        "id": "4951909/ICSTWWRP",
        "source": "zotero"
       }
      ],
      "pcjan": [
       {
        "id": "4951909/IE66EGIT",
        "source": "zotero"
       }
      ],
      "rp309": [
       {
        "id": "4951909/EDFDI9UE",
        "source": "zotero"
       }
      ]
     }
    }
   },
   "source": [
    "Curiously—or perhaps not—far fewer works have appeared in the area in which digital history can prove most transformative and positively affect the largest number of people. Digital pedagogy in practice remains an understudied area in 2025 despite a number of recent notable interventions such as Johanna Drucker’s _The Digital Humanities Coursebook_, Jennifer Guilianos’s _A Primer for Teaching Digital History_, and Brian Croxall’s and Diane Jakacki’s _What We Teach When We Teach DH_ <cite id=\"diz59\"><a href=\"#zotero%7C4951909%2FI2BN9IN6\">(Drucker 2021)</a></cite><cite id=\"aqc0x\"><a href=\"#zotero%7C4951909%2FB99NN5IV\">(Guiliano 2022)</a></cite><cite id=\"oaddn\"><a href=\"#zotero%7C4951909%2FICSTWWRP\">(Croxall and Jakacki 2023)</a></cite>. The coding side of pedagogy has also recently flourished with articles from _Programming Historian_, Brian Kokensparger’s _Guide to Programming for the Digital Humanities_, Folgert Karsdorps’s _Humanities Data Analysis_, and William Mattingly’s _Introduction to Python for Digital Humanists_, although these all double as self-study manuals for researchers themselves in addition to pre-packaged lessons for the classroom <cite id=\"bdmr6\"><a href=\"#zotero%7C4951909%2FWJYK4N8X\">(Kokensparger 2018)</a></cite><cite id=\"pcjan\"><a href=\"#zotero%7C4951909%2FIE66EGIT\">(Karsdorp, Kestmont, and Riddell 2021)</a></cite><cite id=\"h9yyt\"><a href=\"#zotero%7C4951909%2F4TG9B4GK\">(Mattingly 2023)</a></cite>. The recent artificial intelligence boom also inspired José Antonio Bowen’s and C. Edward Watson’s _Teaching with AI_, a timely intervention aimed at instructors confronting the disruptive potential of large language models <cite id=\"rp309\"><a href=\"#zotero%7C4951909%2FEDFDI9UE\">(Bowen and Watson 2024)</a></cite>. Though this recent spate of books on educational practice bodes well for those looking to integrate the digital and the history, Maria Georgopoulou noted in her systematic study of digital humanities research literature that “there is a noticeable lack of reviews in the field of DH educational practice” and that “teaching may often be relegated to an afterthought in DH discourse.” <cite id=\"a208h\"><a href=\"#zotero%7C4951909%2FZVWDRAGM\">(Georgopoulou et al. 2025)</a></cite> The field is maturing, but not nearly at the pace of technological change."
   ]
  },
  {
   "cell_type": "markdown",
   "metadata": {
    "citation-manager": {
     "citations": {
      "093hk": [
       {
        "id": "4951909/B99NN5IV",
        "source": "zotero"
       }
      ]
     }
    }
   },
   "source": [
    "At least part of the issue boils down to finding concrete ways to integrate digital practices in history courses. Computationally intensive methods remain difficult to teach because both students and instructors often lack backgrounds in statistics or programming. Staying abreast of the developments in digital history has become a full time area of research, which is an impossibility for most time-strapped historians working in a field that continues to privilege the monograph and traditional subject expertise. Digital methods now form a specialized field requiring sustained effort to master, yet professional incentives remain aligned with conventional outputs. On the teaching side, historians who do emphasize the “digital” half of digital history often find that computational approaches require a two- or three-course sequence to build disciplinary skills and apply them to historical work—possible only with sustained student engagement and strong institutional support. Introductory courses can showcase what is possible, but are often “tightly controlled and limit students to approaches that do not require coding, programming, or too much under-the-hood poking around.”<cite id=\"093hk\"><a href=\"#zotero%7C4951909%2FB99NN5IV\">(Guiliano 2022)</a></cite>"
   ]
  },
  {
   "cell_type": "markdown",
   "metadata": {
    "citation-manager": {
     "citations": {
      "37inl": [
       {
        "id": "4951909/B99NN5IV",
        "source": "zotero"
       }
      ],
      "nwslr": [
       {
        "id": "4951909/SU2NHYZG",
        "source": "zotero"
       }
      ]
     }
    }
   },
   "source": [
    "Digital public history offers a different balance, integrating technical skills, pedagogical goals, and the core competencies of the historical discipline. It provides space in the classroom for the “fundamentals of historical scholarship, evidence, and argument” along with important areas of scholarship such as “access, audience, output, and privacy” that receive less attention <cite id=\"37inl\"><a href=\"#zotero%7C4951909%2FB99NN5IV\">(Guiliano 2022)</a></cite>. The aim is not to treat digital history pedagogy as a humanistic offshoot of computer science that trains students in particular tools or platforms, but as a “pedagogical approach that enables them to envision a relationship between themselves and knowledge production.”<cite id=\"nwslr\"><a href=\"#zotero%7C4951909%2FSU2NHYZG\">(Risam 2019)</a></cite> As useful as the traditional academic essay is for teaching critical thinking and argumentation, students sometimes find it hard to shake the knowledge that only the instructor will ever read their words. Digital public history, however, produces something tangible that a student—and friends, family, the public—can visit, scroll, and interact with. Suddenly the student’s words, design choices, and multimedia selection have power and influence. Crucially, the low-bar of technical skills required, at least in the classroom, make a public-facing digital history project very suitable for a semester-long course that scaffolds technical and historical skills to create sustained engagement over several months and results in a tangible project they can carry with them after the semester ends."
   ]
  },
  {
   "cell_type": "markdown",
   "metadata": {},
   "source": [
    "Pedagogical practice in digital public history, however, is not as simple as selecting a platform and turning students loose. Broad pronouncements on the importance of digital history fill the pages of pedagogy literature, but in far shorter supply are concrete pedagogical techniques and how an instructor can successfully wade through the myriad of options available to arrive at suitable tools. This article argues that there is no universal, ready-made solution for integrating digital history into the classroom. Instead, instructors must make deliberate choices based on their own and their students’ technical skills, the amount of class time available for skill development, and the broader learning objectives."
   ]
  },
  {
   "cell_type": "markdown",
   "metadata": {},
   "source": [
    "This study compares two such choices. The first involves using a conventional comprehensive Content Management System approach in the form of Scalar, a popular open-source system primarily focused on a “What-You-See-Is-What-You-Get” (WYSIWYG) editing and publishing system with a very polished final product. The second uses ScholarMinPub, an open-source minimalist framework that introduces students to Markdown and YAML, trading aesthetic flexibility for greater transparency and technical engagement. Drawing on classroom experience with both approaches, the article concludes with guidance for aligning technological choices with pedagogical and student goals."
   ]
  },
  {
   "cell_type": "markdown",
   "metadata": {},
   "source": [
    "## Case Study 1: Comprehensive Content Management System"
   ]
  },
  {
   "cell_type": "markdown",
   "metadata": {
    "citation-manager": {
     "citations": {
      "1z16r": [
       {
        "id": "4951909/ZVWDRAGM",
        "source": "zotero"
       }
      ]
     }
    }
   },
   "source": [
    "The most widely studied and frequently adopted classroom tools are freely available Open Educational Resources (OER), designed specifically for educators and students. These include both digitized and “born-digital” primary source collections and Content Management Systems (CMS) <cite id=\"1z16r\"><a href=\"#zotero%7C4951909%2FZVWDRAGM\">(Georgopoulou et al. 2025)</a></cite>. Wordpress is the most famous example of a CMS and is known for its ease of use such that even someone with zero previous web development experience can publish a website. At the same time, more advanced users have the option to work with underlying code if they so choose and thousands of ready-made plugins exist to extend powerful features to a website. Such plugins allow webmasters to create full e-commerce stores and design complex and visually appealing site layouts without touching code. Amongst academics, Omeka and Scalar are the most well-known and both come packed with features geared toward scholarly digital publication."
   ]
  },
  {
   "cell_type": "markdown",
   "metadata": {},
   "source": [
    "CMSs achieved popularity in the classroom precisely because they lowered the threshold of technical proficiency for web development. The platforms combine the two halves of web development, front-end (what you see when you visit a website) and the back-end (everything in the background that provides functionality). Suddenly, designing a visually appealing website no longer required intimate knowledge of Hypertext Markup Language (HTML), Cascading Style Sheets (CSS), or JavaScript (JS) and powerful back-end features could be installed with a plugin rather than weeks of programming in Python, Java, PHP, Ruby, or numerous other languages used in backend web development. With CMSs students, instructors, and researchers can create visually appealing websites with powerful features and minimal friction, without ever seeing a line of code. User interfaces resemble Microsoft Word much more than a traditional code editor such as Visual Studio. Moreover, the workflow follows a straightforward process: users simply define their desired pages, specify required features, and construct their sites accordingly. This accessibility has democratized web development within academic contexts, removing technical barriers that once limited digital scholarship and pedagogical innovation."
   ]
  },
  {
   "cell_type": "markdown",
   "metadata": {
    "citation-manager": {
     "citations": {
      "h84cu": [
       {
        "id": "4951909/WMB658F8",
        "source": "zotero"
       }
      ]
     }
    }
   },
   "source": [
    "However, these advantages carry significant limitations. CMSs operate as predetermined systems in which developers establish all available functionalities for end users. Extending these pre-built capabilities demands substantial technical expertise that contradicts the platforms' promise of accessibility. For non-technical users, CMSs foreclose the vast array of technological possibilities. Johanna Drucker has characterized the relationship between user and pre-built platform as “requiring submission, not invention,” and that intellectual engagement suffers as these “platforms have their protocols, and the user must follow them, disciplining mind and imagination in a practice of alignment with what is possible in the program.” <cite id=\"h84cu\"><a href=\"#zotero%7C4951909%2FWMB658F8\">(O’Sullivan 2023)</a></cite>"
   ]
  },
  {
   "cell_type": "markdown",
   "metadata": {
    "editable": true,
    "slideshow": {
     "slide_type": ""
    },
    "tags": []
   },
   "source": [
    "This tension underscores a central paradox in digital history pedagogy. CMSs both standardize digital history practices by contributing to the field’s methodological maturation while also shielding students from the computational processes that underlie digital scholarship. The very ease of use that makes these platforms pedagogically attractive may also limit students’ capacity to understand how technological choices shape and constrain digital arguments."
   ]
  },
  {
   "cell_type": "markdown",
   "metadata": {
    "editable": true,
    "slideshow": {
     "slide_type": ""
    },
    "tags": [
     "hermeneutics"
    ]
   },
   "source": [
    "### Choosing and Using Scalar"
   ]
  },
  {
   "cell_type": "markdown",
   "metadata": {
    "editable": true,
    "slideshow": {
     "slide_type": ""
    },
    "tags": [
     "hermeneutics"
    ]
   },
   "source": [
    "These strengths and limits framed my own classroom use of Scalar. In both Digital Documentary Publishing (University of Illinois at Urbana-Champaign, Fall 2023) and Digital Public History (University of Florida, Spring 2025), I opted to use Scalar. Both courses adapted John Randolph's pedagogical model, which centers  collaborative learning. Students worked in groups of three to four to investigate understudied yet historically significant primary sources, conduct research, and develop digital exhibits for public audiences. The point of the courses was not to become an expert in Scalar, but to learn historical principles such as primary source analysis, argumentation, and the tenets of public history, while using technology to bring historical knowledge production to digital spaces. The course consisted of four main units:\n",
    "\n",
    "1. History and Its Sources, Yesterday and Today: This introductory unit examined the theoretical foundations of primary source production and the ways digital technologies have transformed both their creation and preservation. Students analyzed the processes through which primary sources reach the present, focusing on the deliberate choices and historical contingencies that shaped their survival. Written assignments critically assessed these transmission processes and considered their implications for historical interpretation. (3 weeks)\n",
    "2. Publishing the Past in the Digital Age: Documentary publishing was a key component in these courses and this unit introduced concepts of scholarly editions. Students were also introduced to the final project through a bird’s eye overview so that they knew “where” the course was taking them. Writing assignments consisted of comparing analogue and digital scholarly editions with a specific emphasis on benefits and drawbacks between both methods. (2.5 weeks)\n",
    "3. Studying Your Source and Imaging Its Place in History: Students conducted intensive research on their assigned primary sources, tracing their sources’ biographical trajectories from creation through digitization while situating them within broader historical contexts. Each student produced a substantial contextual research essay. Individual contributions provided the foundational content for the digital exhibits. (2.5 weeks)\n",
    "4. Creating Your Prototype Edition: The final unit emphasized the translation of scholarly research into digital public history. Class sessions included Scalar tutorials, discussions of presentation design and accessibility standards, instruction in metadata conventions, collaborative workshops, and project presentations. (6 weeks)\n",
    "\n",
    "This scaffolded progression moved deliberately from theoretical foundations to practical application: beginning with traditional historical inquiry, to addressing digital transformation's opportunities and challenges, then developing critical source analysis skills, and finally culminating in public-facing digital scholarship.\n",
    "\n",
    "Scalar held several advantages for these courses. An abundance of tutorials already existed that could supplement my in-class demonstrations for using the system. Randolph’s open-source and peer-reviewed journal _SourceLab_ already showed the possibilities of using Scalar to create born-digital scholarly works. The figures below show polished and refined versions of a student project eventually published through _SourceLab_.\n",
    "\n",
    "metadata={\n",
    "    \"jdh\": {\n",
    "        \"module\": \"object\",\n",
    "        \"object\": {\n",
    "            \"type\":\"image\",\n",
    "            \"source\": [\n",
    "                \"Limit the image size to width 1000px\"\n",
    "            ]\n",
    "        }\n",
    "    }\n",
    "}\n",
    "display(Image(\"media/ScalarIntroPage.png\", width=1000), metadata=metadata)\n",
    "\n",
    "metadata={\n",
    "    \"jdh\": {\n",
    "        \"module\": \"object\",\n",
    "        \"object\": {\n",
    "            \"type\":\"image\",\n",
    "            \"source\": [\n",
    "                \"Limit the image size to width 1000px\"\n",
    "            ]\n",
    "        }\n",
    "    }\n",
    "}\n",
    "display(Image(\"media/ScalarIntroductionLayout.png\", width=1000), metadata=metadata)\n",
    "\n",
    "metadata={\n",
    "    \"jdh\": {\n",
    "        \"module\": \"object\",\n",
    "        \"object\": {\n",
    "            \"type\":\"image\",\n",
    "            \"source\": [\n",
    "                \"Limit the image size to width 1000px\"\n",
    "            ]\n",
    "        }\n",
    "    }\n",
    "}\n",
    "display(Image(\"media/ScalarSourcePresentation.png\", width=1000), metadata=metadata)"
   ]
  },
  {
   "cell_type": "markdown",
   "metadata": {
    "editable": true,
    "slideshow": {
     "slide_type": ""
    },
    "tags": [
     "hermeneutics"
    ]
   },
   "source": [
    "This is a hermeneutic paragraph"
   ]
  },
  {
   "cell_type": "markdown",
   "metadata": {
    "jdh": {
     "module": "object",
     "object": {
      "source": [
       "table 1: label table 1"
      ]
     }
    },
    "tags": [
     "table-1"
    ]
   },
   "source": [
    "Editor|1641|1798|1916\n",
    "---|---|---|---\n",
    "Senan|0.55|0.4|0.3\n",
    "Henry|0.71|0.5|0.63"
   ]
  },
  {
   "cell_type": "markdown",
   "metadata": {
    "tags": [
     "hidden"
    ]
   },
   "source": []
  },
  {
   "cell_type": "code",
   "execution_count": null,
   "metadata": {},
   "outputs": [],
   "source": [
    "# Check your Python version\n",
    "from platform import python_version\n",
    "python_version()\n",
    "\n",
    "#!python -V"
   ]
  },
  {
   "cell_type": "code",
   "execution_count": 1,
   "metadata": {},
   "outputs": [],
   "source": [
    "# pandas package needs to be added to the requirements.txt 's file \n",
    "import pandas as pd\n"
   ]
  },
  {
   "cell_type": "code",
   "execution_count": 2,
   "metadata": {},
   "outputs": [
    {
     "data": {
      "text/html": [
       "<div>\n",
       "<style scoped>\n",
       "    .dataframe tbody tr th:only-of-type {\n",
       "        vertical-align: middle;\n",
       "    }\n",
       "\n",
       "    .dataframe tbody tr th {\n",
       "        vertical-align: top;\n",
       "    }\n",
       "\n",
       "    .dataframe thead th {\n",
       "        text-align: right;\n",
       "    }\n",
       "</style>\n",
       "<table border=\"1\" class=\"dataframe\">\n",
       "  <thead>\n",
       "    <tr style=\"text-align: right;\">\n",
       "      <th></th>\n",
       "      <th>Name</th>\n",
       "      <th>PredominantDegree</th>\n",
       "      <th>HighestDegree</th>\n",
       "      <th>FundingModel</th>\n",
       "      <th>Region</th>\n",
       "      <th>Geography</th>\n",
       "      <th>AdmissionRate</th>\n",
       "      <th>ACTMedian</th>\n",
       "      <th>SATAverage</th>\n",
       "      <th>AverageCost</th>\n",
       "      <th>Expenditure</th>\n",
       "      <th>AverageFacultySalary</th>\n",
       "      <th>MedianDebt</th>\n",
       "      <th>AverageAgeofEntry</th>\n",
       "      <th>MedianFamilyIncome</th>\n",
       "      <th>MedianEarnings</th>\n",
       "    </tr>\n",
       "  </thead>\n",
       "  <tbody>\n",
       "    <tr>\n",
       "      <th>0</th>\n",
       "      <td>Alabama A &amp; M University</td>\n",
       "      <td>Bachelor's</td>\n",
       "      <td>Graduate</td>\n",
       "      <td>Public</td>\n",
       "      <td>Southeast</td>\n",
       "      <td>Mid-size City</td>\n",
       "      <td>0.8989</td>\n",
       "      <td>17</td>\n",
       "      <td>823</td>\n",
       "      <td>18888</td>\n",
       "      <td>7459</td>\n",
       "      <td>7079</td>\n",
       "      <td>19500.0</td>\n",
       "      <td>20.629999</td>\n",
       "      <td>29039.0</td>\n",
       "      <td>27000</td>\n",
       "    </tr>\n",
       "    <tr>\n",
       "      <th>1</th>\n",
       "      <td>University of Alabama at Birmingham</td>\n",
       "      <td>Bachelor's</td>\n",
       "      <td>Graduate</td>\n",
       "      <td>Public</td>\n",
       "      <td>Southeast</td>\n",
       "      <td>Mid-size City</td>\n",
       "      <td>0.8673</td>\n",
       "      <td>25</td>\n",
       "      <td>1146</td>\n",
       "      <td>19990</td>\n",
       "      <td>17208</td>\n",
       "      <td>10170</td>\n",
       "      <td>16250.0</td>\n",
       "      <td>22.670000</td>\n",
       "      <td>34909.0</td>\n",
       "      <td>37200</td>\n",
       "    </tr>\n",
       "    <tr>\n",
       "      <th>2</th>\n",
       "      <td>University of Alabama in Huntsville</td>\n",
       "      <td>Bachelor's</td>\n",
       "      <td>Graduate</td>\n",
       "      <td>Public</td>\n",
       "      <td>Southeast</td>\n",
       "      <td>Mid-size City</td>\n",
       "      <td>0.8062</td>\n",
       "      <td>26</td>\n",
       "      <td>1180</td>\n",
       "      <td>20306</td>\n",
       "      <td>9352</td>\n",
       "      <td>9341</td>\n",
       "      <td>16500.0</td>\n",
       "      <td>23.190001</td>\n",
       "      <td>39766.0</td>\n",
       "      <td>41500</td>\n",
       "    </tr>\n",
       "    <tr>\n",
       "      <th>3</th>\n",
       "      <td>Alabama State University</td>\n",
       "      <td>Bachelor's</td>\n",
       "      <td>Graduate</td>\n",
       "      <td>Public</td>\n",
       "      <td>Southeast</td>\n",
       "      <td>Mid-size City</td>\n",
       "      <td>0.5125</td>\n",
       "      <td>17</td>\n",
       "      <td>830</td>\n",
       "      <td>17400</td>\n",
       "      <td>7393</td>\n",
       "      <td>6557</td>\n",
       "      <td>15854.5</td>\n",
       "      <td>20.889999</td>\n",
       "      <td>24029.5</td>\n",
       "      <td>22400</td>\n",
       "    </tr>\n",
       "    <tr>\n",
       "      <th>4</th>\n",
       "      <td>The University of Alabama</td>\n",
       "      <td>Bachelor's</td>\n",
       "      <td>Graduate</td>\n",
       "      <td>Public</td>\n",
       "      <td>Southeast</td>\n",
       "      <td>Small City</td>\n",
       "      <td>0.5655</td>\n",
       "      <td>26</td>\n",
       "      <td>1171</td>\n",
       "      <td>26717</td>\n",
       "      <td>9817</td>\n",
       "      <td>9605</td>\n",
       "      <td>17750.0</td>\n",
       "      <td>20.770000</td>\n",
       "      <td>58976.0</td>\n",
       "      <td>39200</td>\n",
       "    </tr>\n",
       "    <tr>\n",
       "      <th>...</th>\n",
       "      <td>...</td>\n",
       "      <td>...</td>\n",
       "      <td>...</td>\n",
       "      <td>...</td>\n",
       "      <td>...</td>\n",
       "      <td>...</td>\n",
       "      <td>...</td>\n",
       "      <td>...</td>\n",
       "      <td>...</td>\n",
       "      <td>...</td>\n",
       "      <td>...</td>\n",
       "      <td>...</td>\n",
       "      <td>...</td>\n",
       "      <td>...</td>\n",
       "      <td>...</td>\n",
       "      <td>...</td>\n",
       "    </tr>\n",
       "    <tr>\n",
       "      <th>1289</th>\n",
       "      <td>University of Connecticut-Avery Point</td>\n",
       "      <td>Bachelor's</td>\n",
       "      <td>Graduate</td>\n",
       "      <td>Public</td>\n",
       "      <td>New England</td>\n",
       "      <td>Mid-size Suburb</td>\n",
       "      <td>0.5940</td>\n",
       "      <td>24</td>\n",
       "      <td>1020</td>\n",
       "      <td>12946</td>\n",
       "      <td>11730</td>\n",
       "      <td>14803</td>\n",
       "      <td>18983.0</td>\n",
       "      <td>20.120001</td>\n",
       "      <td>86510.0</td>\n",
       "      <td>49700</td>\n",
       "    </tr>\n",
       "    <tr>\n",
       "      <th>1290</th>\n",
       "      <td>University of Connecticut-Stamford</td>\n",
       "      <td>Bachelor's</td>\n",
       "      <td>Graduate</td>\n",
       "      <td>Public</td>\n",
       "      <td>New England</td>\n",
       "      <td>Mid-size City</td>\n",
       "      <td>0.4107</td>\n",
       "      <td>21</td>\n",
       "      <td>1017</td>\n",
       "      <td>13028</td>\n",
       "      <td>4958</td>\n",
       "      <td>14803</td>\n",
       "      <td>18983.0</td>\n",
       "      <td>20.120001</td>\n",
       "      <td>86510.0</td>\n",
       "      <td>49700</td>\n",
       "    </tr>\n",
       "    <tr>\n",
       "      <th>1291</th>\n",
       "      <td>California State University-Channel Islands</td>\n",
       "      <td>Bachelor's</td>\n",
       "      <td>Graduate</td>\n",
       "      <td>Public</td>\n",
       "      <td>Far West</td>\n",
       "      <td>Mid-size Suburb</td>\n",
       "      <td>0.6443</td>\n",
       "      <td>20</td>\n",
       "      <td>954</td>\n",
       "      <td>22570</td>\n",
       "      <td>12026</td>\n",
       "      <td>8434</td>\n",
       "      <td>12500.0</td>\n",
       "      <td>24.850000</td>\n",
       "      <td>32103.0</td>\n",
       "      <td>35800</td>\n",
       "    </tr>\n",
       "    <tr>\n",
       "      <th>1292</th>\n",
       "      <td>DigiPen Institute of Technology</td>\n",
       "      <td>Bachelor's</td>\n",
       "      <td>Graduate</td>\n",
       "      <td>Private For-Profit</td>\n",
       "      <td>Far West</td>\n",
       "      <td>Small City</td>\n",
       "      <td>0.6635</td>\n",
       "      <td>28</td>\n",
       "      <td>1225</td>\n",
       "      <td>37848</td>\n",
       "      <td>5998</td>\n",
       "      <td>7659</td>\n",
       "      <td>19000.0</td>\n",
       "      <td>21.209999</td>\n",
       "      <td>68233.0</td>\n",
       "      <td>72800</td>\n",
       "    </tr>\n",
       "    <tr>\n",
       "      <th>1293</th>\n",
       "      <td>Neumont University</td>\n",
       "      <td>Bachelor's</td>\n",
       "      <td>Bachelor's</td>\n",
       "      <td>Private For-Profit</td>\n",
       "      <td>Rocky Mountains</td>\n",
       "      <td>Mid-size City</td>\n",
       "      <td>0.7997</td>\n",
       "      <td>25</td>\n",
       "      <td>1104</td>\n",
       "      <td>37379</td>\n",
       "      <td>3298</td>\n",
       "      <td>6991</td>\n",
       "      <td>22313.0</td>\n",
       "      <td>24.750000</td>\n",
       "      <td>39241.0</td>\n",
       "      <td>37300</td>\n",
       "    </tr>\n",
       "  </tbody>\n",
       "</table>\n",
       "<p>1294 rows × 16 columns</p>\n",
       "</div>"
      ],
      "text/plain": [
       "                                             Name PredominantDegree  \\\n",
       "0                        Alabama A & M University        Bachelor's   \n",
       "1             University of Alabama at Birmingham        Bachelor's   \n",
       "2             University of Alabama in Huntsville        Bachelor's   \n",
       "3                        Alabama State University        Bachelor's   \n",
       "4                       The University of Alabama        Bachelor's   \n",
       "...                                           ...               ...   \n",
       "1289        University of Connecticut-Avery Point        Bachelor's   \n",
       "1290           University of Connecticut-Stamford        Bachelor's   \n",
       "1291  California State University-Channel Islands        Bachelor's   \n",
       "1292              DigiPen Institute of Technology        Bachelor's   \n",
       "1293                           Neumont University        Bachelor's   \n",
       "\n",
       "     HighestDegree        FundingModel           Region        Geography  \\\n",
       "0         Graduate              Public        Southeast    Mid-size City   \n",
       "1         Graduate              Public        Southeast    Mid-size City   \n",
       "2         Graduate              Public        Southeast    Mid-size City   \n",
       "3         Graduate              Public        Southeast    Mid-size City   \n",
       "4         Graduate              Public        Southeast       Small City   \n",
       "...            ...                 ...              ...              ...   \n",
       "1289      Graduate              Public      New England  Mid-size Suburb   \n",
       "1290      Graduate              Public      New England    Mid-size City   \n",
       "1291      Graduate              Public         Far West  Mid-size Suburb   \n",
       "1292      Graduate  Private For-Profit         Far West       Small City   \n",
       "1293    Bachelor's  Private For-Profit  Rocky Mountains    Mid-size City   \n",
       "\n",
       "      AdmissionRate  ACTMedian  SATAverage  AverageCost  Expenditure  \\\n",
       "0            0.8989         17         823        18888         7459   \n",
       "1            0.8673         25        1146        19990        17208   \n",
       "2            0.8062         26        1180        20306         9352   \n",
       "3            0.5125         17         830        17400         7393   \n",
       "4            0.5655         26        1171        26717         9817   \n",
       "...             ...        ...         ...          ...          ...   \n",
       "1289         0.5940         24        1020        12946        11730   \n",
       "1290         0.4107         21        1017        13028         4958   \n",
       "1291         0.6443         20         954        22570        12026   \n",
       "1292         0.6635         28        1225        37848         5998   \n",
       "1293         0.7997         25        1104        37379         3298   \n",
       "\n",
       "      AverageFacultySalary  MedianDebt  AverageAgeofEntry  MedianFamilyIncome  \\\n",
       "0                     7079     19500.0          20.629999             29039.0   \n",
       "1                    10170     16250.0          22.670000             34909.0   \n",
       "2                     9341     16500.0          23.190001             39766.0   \n",
       "3                     6557     15854.5          20.889999             24029.5   \n",
       "4                     9605     17750.0          20.770000             58976.0   \n",
       "...                    ...         ...                ...                 ...   \n",
       "1289                 14803     18983.0          20.120001             86510.0   \n",
       "1290                 14803     18983.0          20.120001             86510.0   \n",
       "1291                  8434     12500.0          24.850000             32103.0   \n",
       "1292                  7659     19000.0          21.209999             68233.0   \n",
       "1293                  6991     22313.0          24.750000             39241.0   \n",
       "\n",
       "      MedianEarnings  \n",
       "0              27000  \n",
       "1              37200  \n",
       "2              41500  \n",
       "3              22400  \n",
       "4              39200  \n",
       "...              ...  \n",
       "1289           49700  \n",
       "1290           49700  \n",
       "1291           35800  \n",
       "1292           72800  \n",
       "1293           37300  \n",
       "\n",
       "[1294 rows x 16 columns]"
      ]
     },
     "execution_count": 2,
     "metadata": {},
     "output_type": "execute_result"
    }
   ],
   "source": [
    "df = pd.read_csv(\"https://raw.githubusercontent.com/lux-org/lux-datasets/master/data/college.csv\")\n",
    "df"
   ]
  },
  {
   "cell_type": "code",
   "execution_count": null,
   "metadata": {},
   "outputs": [],
   "source": []
  }
 ],
 "metadata": {
  "celltoolbar": "Tags",
  "citation-manager": {
   "items": {
    "zotero": {
     "4951909/48VB3VBE": {
      "author": [
       {
        "family": "Guldi",
        "given": "Jo"
       }
      ],
      "event-place": "Cambridge",
      "id": "4951909/48VB3VBE",
      "issued": {
       "date-parts": [
        [
         2023
        ]
       ]
      },
      "publisher": "Cambridge University Press",
      "publisher-place": "Cambridge",
      "system_id": "zotero|4951909/48VB3VBE",
      "title": "The Dangerous Art of Text Mining: A Methodology for Digital History",
      "type": "book"
     },
     "4951909/4TG9B4GK": {
      "author": [
       {
        "family": "Mattingly",
        "given": "William J. B."
       }
      ],
      "event-place": "Boca Raton, FL",
      "id": "4951909/4TG9B4GK",
      "issued": {
       "date-parts": [
        [
         2023
        ]
       ]
      },
      "publisher": "CRC Press",
      "publisher-place": "Boca Raton, FL",
      "system_id": "zotero|4951909/4TG9B4GK",
      "title": "Introduction to Python for Digital Humanists",
      "type": "book"
     },
     "4951909/B99NN5IV": {
      "author": [
       {
        "family": "Guiliano",
        "given": "Jennifer"
       }
      ],
      "event-place": "Durham",
      "id": "4951909/B99NN5IV",
      "issued": {
       "date-parts": [
        [
         2022
        ]
       ]
      },
      "publisher": "Duke University Press",
      "publisher-place": "Durham",
      "system_id": "zotero|4951909/B99NN5IV",
      "title": "A Primer for Teaching Digital History: Ten Design Principles",
      "type": "book"
     },
     "4951909/EDFDI9UE": {
      "author": [
       {
        "family": "Bowen",
        "given": "José Antonio"
       },
       {
        "family": "Watson",
        "given": "C. Edward"
       }
      ],
      "event-place": "Baltimore",
      "id": "4951909/EDFDI9UE",
      "issued": {
       "date-parts": [
        [
         2024
        ]
       ]
      },
      "publisher": "Johns Hopkins University Press",
      "publisher-place": "Baltimore",
      "system_id": "zotero|4951909/EDFDI9UE",
      "title": "Teaching with AI: A Practical Guide to a New Era of Human Learning",
      "type": "book"
     },
     "4951909/I2BN9IN6": {
      "author": [
       {
        "family": "Drucker",
        "given": "Johanna"
       }
      ],
      "event-place": "London",
      "id": "4951909/I2BN9IN6",
      "issued": {
       "date-parts": [
        [
         2021
        ]
       ]
      },
      "publisher": "Routledge",
      "publisher-place": "London",
      "system_id": "zotero|4951909/I2BN9IN6",
      "title": "The Digital Humanities Coursebook: An Introduction to Digital Methods for Research and Scholarship",
      "type": "book"
     },
     "4951909/ICSTWWRP": {
      "author": [
       {
        "family": "Croxall",
        "given": "Brian"
       },
       {
        "family": "Jakacki",
        "given": "Diane K."
       }
      ],
      "event-place": "Minneapolis",
      "id": "4951909/ICSTWWRP",
      "issued": {
       "date-parts": [
        [
         2023
        ]
       ]
      },
      "publisher": "University of Minnesota Press",
      "publisher-place": "Minneapolis",
      "system_id": "zotero|4951909/ICSTWWRP",
      "title": "What We Teach When We Teach DH: Digital Humanities in the Classroom",
      "type": "book"
     },
     "4951909/IE66EGIT": {
      "author": [
       {
        "family": "Karsdorp",
        "given": "Folgert"
       },
       {
        "family": "Kestmont",
        "given": "Mike"
       },
       {
        "family": "Riddell",
        "given": "Allen"
       }
      ],
      "event-place": "Princeton, NJ",
      "id": "4951909/IE66EGIT",
      "issued": {
       "date-parts": [
        [
         2021
        ]
       ]
      },
      "publisher": "Princeton University Press",
      "publisher-place": "Princeton, NJ",
      "system_id": "zotero|4951909/IE66EGIT",
      "title": "Humanities Data Analysis: Case Studies with Python",
      "type": "book"
     },
     "4951909/SU2NHYZG": {
      "author": [
       {
        "family": "Risam",
        "given": "Roopika"
       }
      ],
      "event-place": "Evanston, IL",
      "id": "4951909/SU2NHYZG",
      "issued": {
       "date-parts": [
        [
         2019
        ]
       ]
      },
      "publisher": "Northwestern University Press",
      "publisher-place": "Evanston, IL",
      "system_id": "zotero|4951909/SU2NHYZG",
      "title": "New Digital Worlds: Postcolonial Digital Humanities in Theory, Praxis, and Pedagogy",
      "type": "book"
     },
     "4951909/WJYK4N8X": {
      "author": [
       {
        "family": "Kokensparger",
        "given": "Brian"
       }
      ],
      "event-place": "Cham, Switzerland",
      "id": "4951909/WJYK4N8X",
      "issued": {
       "date-parts": [
        [
         2018
        ]
       ]
      },
      "publisher": "Springer",
      "publisher-place": "Cham, Switzerland",
      "system_id": "zotero|4951909/WJYK4N8X",
      "title": "Guide to Programming for the Digital Humanities: Lessons for Introductory Python",
      "type": "book"
     },
     "4951909/WMB658F8": {
      "editor": [
       {
        "family": "O'Sullivan",
        "given": "James"
       }
      ],
      "event-place": "London",
      "id": "4951909/WMB658F8",
      "issued": {
       "date-parts": [
        [
         2023
        ]
       ]
      },
      "publisher": "Bloomsbury",
      "publisher-place": "London",
      "system_id": "zotero|4951909/WMB658F8",
      "title": "The Bloomsbury Handbook to the Digital Humanities",
      "type": "book"
     },
     "4951909/ZVWDRAGM": {
      "author": [
       {
        "family": "Georgopoulou",
        "given": "Maria Sofia"
       },
       {
        "family": "Troussas",
        "given": "Christos"
       },
       {
        "family": "Triperina",
        "given": "Evangelia"
       },
       {
        "family": "Sgouropoulou",
        "given": "Cleo"
       }
      ],
      "container-title": "Digital Scholarship in the Humanities",
      "id": "4951909/ZVWDRAGM",
      "issue": "1",
      "issued": {
       "date-parts": [
        [
         2025
        ]
       ]
      },
      "page": "121-137",
      "system_id": "zotero|4951909/ZVWDRAGM",
      "title": "Approaches to Digital Humanities Pedagogy: A Systematic Literature Review within Educational Practice",
      "type": "article-journal",
      "volume": "40"
     }
    }
   },
   "style": "chicago-author-date.csl"
  },
  "kernelspec": {
   "display_name": "Python 3 (ipykernel)",
   "language": "python",
   "name": "python3"
  },
  "language_info": {
   "codemirror_mode": {
    "name": "ipython",
    "version": 3
   },
   "file_extension": ".py",
   "mimetype": "text/x-python",
   "name": "python",
   "nbconvert_exporter": "python",
   "pygments_lexer": "ipython3",
   "version": "3.11.9"
  },
  "toc": {
   "base_numbering": 1,
   "nav_menu": {},
   "number_sections": true,
   "sideBar": true,
   "skip_h1_title": false,
   "title_cell": "Table of Contents",
   "title_sidebar": "Contents",
   "toc_cell": false,
   "toc_position": {},
   "toc_section_display": true,
   "toc_window_display": false
  }
 },
 "nbformat": 4,
 "nbformat_minor": 4
}
