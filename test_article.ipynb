{
 "cells": [
  {
   "cell_type": "markdown",
   "metadata": {
    "tags": [
     "title"
    ]
   },
   "source": [
    "# Aligning Technology with Pedagogical Goals: Digital Public History, Content Management Systems, and Minimalist Frameworks"
   ]
  },
  {
   "cell_type": "markdown",
   "metadata": {
    "tags": [
     "contributor"
    ]
   },
   "source": [
    " ### Christopher Thomas Goodwin [![orcid](https://orcid.org/sites/default/files/images/orcid_16x16.png)](https://orcid.org/0000-0003-0723-6369) \n",
    "University of Florida"
   ]
  },
  {
   "cell_type": "markdown",
   "metadata": {
    "editable": true,
    "slideshow": {
     "slide_type": ""
    },
    "tags": [
     "copyright"
    ]
   },
   "source": [
    "[![cc-by](https://licensebuttons.net/l/by/4.0/88x31.png)](https://creativecommons.org/licenses/by/4.0/) \n",
    "©<Christopher Thomas Goodwin>. Published by De Gruyter in cooperation with the University of Luxembourg Centre for Contemporary and Digital History. This is an Open Access article distributed under the terms of the [Creative Commons Attribution License CC-BY](https://creativecommons.org/licenses/by/4.0/)\n"
   ]
  },
  {
   "cell_type": "markdown",
   "metadata": {
    "editable": true,
    "slideshow": {
     "slide_type": ""
    },
    "tags": [
     "keywords"
    ]
   },
   "source": [
    "Pedagogy, Scalar, ScholarMinPub, minimalist, CMS"
   ]
  },
  {
   "cell_type": "markdown",
   "metadata": {
    "editable": true,
    "slideshow": {
     "slide_type": ""
    },
    "tags": [
     "abstract"
    ]
   },
   "source": [
    "This article examines how platform choice shapes digital public history pedagogy by comparing two semester-long teaching experiments. The first used Scalar, a feature-rich content management system (CMS) offering polished, public-facing projects but requiring about 43% of class time for technical training. The second used ScholarMinPub, a minimalist framework adapted from SourceLab’s MinDoc, which trades aesthetic flexibility for transparency, lower infrastructure costs, and broader accessibility. It required only 20% of class time and fostered stronger student ownership while introducing transferable web skills. The study argues tool selection should align with course goals, student backgrounds, and institutional constraints, balancing technical skill development with historical content. It highlights ethical and practical considerations, advocating intentional, critical adoption of digital tools to enhance both pedagogy and inclusivity in historical scholarship."
   ]
  },
  {
   "cell_type": "markdown",
   "metadata": {
    "editable": true,
    "slideshow": {
     "slide_type": ""
    },
    "tags": []
   },
   "source": [
    "## Introduction"
   ]
  },
  {
   "cell_type": "markdown",
   "metadata": {
    "editable": true,
    "slideshow": {
     "slide_type": ""
    },
    "tags": []
   },
   "source": [
    "More than ever, new job postings for history faculty in the United States emphasize applicants’ digital skills. Few call specifically for “digital historians,” but rather couch the preference as a significant complement to traditional areas of expertise. Hiring committees still prioritize historians with expertise in a specific nation-state or thematic area, yet digital skills are now widely recognized as a strategic imperative for two reasons. First, the changing American political landscape has intensified the need for public outreach, serving audiences eager for history but vulnerable to oversimplified political narratives. Second, declining humanities enrollments have placed some departments in struggles for their very existence. Building a faculty cohort with digital skills allows departments to demonstrate relevance in terms familiar to STEM disciplines: graduates leave with tangible, marketable competencies. The ability to critically think or closely read texts, the mainstays of history pedagogy, are appreciated, but without accompanying digital skills are a hard-sell to employers in a world where nearly every workplace runs on computer networks, databases, and applications. Pedagogical potential rather than digitally-focused research agendas drives much of the hiring in the field of digital history in the American academy."
   ]
  },
  {
   "cell_type": "markdown",
   "metadata": {
    "citation-manager": {
     "citations": {
      "meuwe": [
       {
        "id": "4951909/48VB3VBE",
        "source": "zotero"
       }
      ],
      "spof5": [
       {
        "id": "4951909/ICSTWWRP",
        "source": "zotero"
       }
      ]
     }
    },
    "editable": true,
    "slideshow": {
     "slide_type": ""
    },
    "tags": []
   },
   "source": [
    "Only recently has pedagogy occupied such a preeminent position in the hiring process. A little over a decade ago, Katherine D. Harris’s call for pedagogy to be central to the digital humanities, delivered at the seminal 2011 Modern Language Association Convention, barely registered a blip compared to discussions of cultural criticism or, especially, the prestige of coding (<cite id=\"spof5\"><a href=\"#zotero%7C4951909%2FICSTWWRP\">(Croxall and Jakacki 2023)</a></cite>). The humanities—and especially the digital humanities—has not been immune to the prestige of code and the “engineer” figure that dazzles with distant reading and machine learning toolsets, though a number of historians have critiqued many of these techniques, especially when they have originated from disciplines such as Information Science (<cite id=\"meuwe\"><a href=\"#zotero%7C4951909%2F48VB3VBE\">(Guldi 2023)</a></cite>). To some historians, machine learning models resemble opaque “black boxes” where statistics displaces close-reading and operates at a scale that defies comprehension. Given the historical misuse of statistics, many historians are wary of layers—human, code, and machine—that push them further from primary sources. The discipline has long defended the integrity of direct, critical engagement with evidence."
   ]
  },
  {
   "cell_type": "markdown",
   "metadata": {
    "citation-manager": {
     "citations": {
      "a208h": [
       {
        "id": "4951909/ZVWDRAGM",
        "source": "zotero"
       }
      ],
      "aqc0x": [
       {
        "id": "4951909/B99NN5IV",
        "source": "zotero"
       }
      ],
      "bdmr6": [
       {
        "id": "4951909/WJYK4N8X",
        "source": "zotero"
       }
      ],
      "diz59": [
       {
        "id": "4951909/I2BN9IN6",
        "source": "zotero"
       }
      ],
      "h9yyt": [
       {
        "id": "4951909/4TG9B4GK",
        "source": "zotero"
       }
      ],
      "oaddn": [
       {
        "id": "4951909/ICSTWWRP",
        "source": "zotero"
       }
      ],
      "pcjan": [
       {
        "id": "4951909/IE66EGIT",
        "source": "zotero"
       }
      ],
      "rp309": [
       {
        "id": "4951909/EDFDI9UE",
        "source": "zotero"
       }
      ]
     }
    },
    "editable": true,
    "slideshow": {
     "slide_type": ""
    },
    "tags": []
   },
   "source": [
    "Curiously—or perhaps not—far fewer works have appeared in the area in which digital history can prove most transformative and positively affect the largest number of people. Digital pedagogy in practice remains an understudied area in 2025 despite a number of recent notable interventions such as Johanna Drucker’s _The Digital Humanities Coursebook_, Jennifer Guilianos’s _A Primer for Teaching Digital History_, and Brian Croxall’s and Diane Jakacki’s _What We Teach When We Teach DH_ (<cite id=\"diz59\"><a href=\"#zotero%7C4951909%2FI2BN9IN6\">(Drucker 2021)</a></cite>, <cite id=\"aqc0x\"><a href=\"#zotero%7C4951909%2FB99NN5IV\">(Guiliano 2022)</a></cite>, <cite id=\"oaddn\"><a href=\"#zotero%7C4951909%2FICSTWWRP\">(Croxall and Jakacki 2023)</a></cite>). The coding side of pedagogy has also recently flourished with articles from _Programming Historian_, Brian Kokensparger’s _Guide to Programming for the Digital Humanities_, Folgert Karsdorps’s _Humanities Data Analysis_, and William Mattingly’s _Introduction to Python for Digital Humanists_, although these all double as self-study manuals for researchers themselves in addition to pre-packaged lessons for the classroom (<cite id=\"bdmr6\"><a href=\"#zotero%7C4951909%2FWJYK4N8X\">(Kokensparger 2018)</a></cite>, <cite id=\"pcjan\"><a href=\"#zotero%7C4951909%2FIE66EGIT\">(Karsdorp, Kestmont, and Riddell 2021)</a></cite>, <cite id=\"h9yyt\"><a href=\"#zotero%7C4951909%2F4TG9B4GK\">(Mattingly 2023)</a></cite>). The recent artificial intelligence boom also inspired José Antonio Bowen’s and C. Edward Watson’s _Teaching with AI_, a timely intervention aimed at instructors confronting the disruptive potential of large language models (<cite id=\"rp309\"><a href=\"#zotero%7C4951909%2FEDFDI9UE\">(Bowen and Watson 2024)</a></cite>). Though this recent spate of books on educational practice bodes well for those looking to integrate the digital and the history, Maria Georgopoulou noted in her systematic study of digital humanities research literature that “there is a noticeable lack of reviews in the field of DH educational practice” and that “teaching may often be relegated to an afterthought in DH discourse.” (<cite id=\"a208h\"><a href=\"#zotero%7C4951909%2FZVWDRAGM\">(Georgopoulou et al. 2025)</a></cite>) The field is maturing, but not nearly at the pace of technological change."
   ]
  },
  {
   "cell_type": "markdown",
   "metadata": {
    "citation-manager": {
     "citations": {
      "093hk": [
       {
        "id": "4951909/B99NN5IV",
        "source": "zotero"
       }
      ]
     }
    },
    "editable": true,
    "slideshow": {
     "slide_type": ""
    },
    "tags": []
   },
   "source": [
    "At least part of the issue boils down to finding concrete ways to integrate digital practices in history courses. Computationally intensive methods remain difficult to teach because both students and instructors often lack backgrounds in statistics or programming. Staying abreast of the developments in digital history has become a full time area of research, which is an impossibility for most time-strapped historians working in a field that continues to privilege the monograph and traditional subject expertise. Digital methods now form a specialized field requiring sustained effort to master, yet professional incentives remain aligned with conventional outputs. On the teaching side, historians who do emphasize the “digital” half of digital history often find that computational approaches require a two- or three-course sequence to build disciplinary skills and apply them to historical work—possible only with sustained student engagement and strong institutional support. Introductory courses can showcase what is possible, but are often “tightly controlled and limit students to approaches that do not require coding, programming, or too much under-the-hood poking around” (<cite id=\"093hk\"><a href=\"#zotero%7C4951909%2FB99NN5IV\">(Guiliano 2022)</a></cite>)."
   ]
  },
  {
   "cell_type": "markdown",
   "metadata": {
    "citation-manager": {
     "citations": {
      "37inl": [
       {
        "id": "4951909/B99NN5IV",
        "source": "zotero"
       }
      ],
      "nwslr": [
       {
        "id": "4951909/SU2NHYZG",
        "source": "zotero"
       }
      ]
     }
    },
    "editable": true,
    "slideshow": {
     "slide_type": ""
    },
    "tags": []
   },
   "source": [
    "Digital public history offers a different balance, integrating technical skills, pedagogical goals, and the core competencies of the historical discipline. It provides space in the classroom for the “fundamentals of historical scholarship, evidence, and argument” along with important areas of scholarship such as “access, audience, output, and privacy” that receive less attention (<cite id=\"37inl\"><a href=\"#zotero%7C4951909%2FB99NN5IV\">(Guiliano 2022)</a></cite>). The aim is not to treat digital history pedagogy as a humanistic offshoot of computer science that trains students in particular tools or platforms, but as a “pedagogical approach that enables them to envision a relationship between themselves and knowledge production” (<cite id=\"nwslr\"><a href=\"#zotero%7C4951909%2FSU2NHYZG\">(Risam 2019)</a></cite>). As useful as the traditional academic essay is for teaching critical thinking and argumentation, students sometimes find it hard to shake the knowledge that only the instructor will ever read their words. Digital public history, however, produces something tangible that a student—and friends, family, the public—can visit, scroll, and interact with. Suddenly the student’s words, design choices, and multimedia selection have power and influence. Crucially, the low-bar of technical skills required, at least in the classroom, make a public-facing digital history project very suitable for a semester-long course that scaffolds technical and historical skills to create sustained engagement over several months and results in a tangible project they can carry with them after the semester ends."
   ]
  },
  {
   "cell_type": "markdown",
   "metadata": {},
   "source": [
    "Pedagogical practice in digital public history, however, is not as simple as selecting a platform and turning students loose. Broad pronouncements on the importance of digital history fill the pages of pedagogy literature, but in far shorter supply are concrete pedagogical techniques and how an instructor can successfully wade through the myriad of options available to arrive at suitable tools. This article argues that there is no universal, ready-made solution for integrating digital history into the classroom. Instead, instructors must make deliberate choices based on their own and their students’ technical skills, the amount of class time available for skill development, and the broader learning objectives."
   ]
  },
  {
   "cell_type": "markdown",
   "metadata": {},
   "source": [
    "This study compares two such choices. The first involves using a conventional comprehensive Content Management System approach in the form of Scalar, a popular open-source system primarily focused on a “What-You-See-Is-What-You-Get” (WYSIWYG) editing and publishing system with a very polished final product. The second uses ScholarMinPub, an open-source minimalist framework that introduces students to Markdown and YAML, trading aesthetic flexibility for greater transparency and technical engagement. Drawing on classroom experience with both approaches, the article concludes with guidance for aligning technological choices with pedagogical and student goals."
   ]
  },
  {
   "cell_type": "markdown",
   "metadata": {},
   "source": [
    "## Case Study 1: Comprehensive Content Management System"
   ]
  },
  {
   "cell_type": "markdown",
   "metadata": {
    "citation-manager": {
     "citations": {
      "1z16r": [
       {
        "id": "4951909/ZVWDRAGM",
        "source": "zotero"
       }
      ]
     }
    },
    "editable": true,
    "slideshow": {
     "slide_type": ""
    },
    "tags": []
   },
   "source": [
    "The most widely studied and frequently adopted classroom tools are freely available Open Educational Resources (OER), designed specifically for educators and students. These include both digitized and “born-digital” primary source collections and Content Management Systems (CMS) (<cite id=\"1z16r\"><a href=\"#zotero%7C4951909%2FZVWDRAGM\">(Georgopoulou et al. 2025)</a></cite>). Wordpress is the most famous example of a CMS and is known for its ease of use such that even someone with zero previous web development experience can publish a website. At the same time, more advanced users have the option to work with underlying code if they so choose and thousands of ready-made plugins exist to extend powerful features to a website. Such plugins allow webmasters to create full e-commerce stores and design complex and visually appealing site layouts without touching code. Amongst academics, Omeka and Scalar are the most well-known and both come packed with features geared toward scholarly digital publication."
   ]
  },
  {
   "cell_type": "markdown",
   "metadata": {
    "editable": true,
    "slideshow": {
     "slide_type": ""
    },
    "tags": []
   },
   "source": [
    "CMSs achieved popularity in the classroom precisely because they lowered the threshold of technical proficiency for web development. The platforms combine the two halves of web development, front-end (what you see when you visit a website) and the back-end (everything in the background that provides functionality). Suddenly, designing a visually appealing website no longer required intimate knowledge of Hypertext Markup Language (HTML), Cascading Style Sheets (CSS), or JavaScript (JS) and powerful back-end features could be installed with a plugin rather than weeks of programming in Python, Java, PHP, Ruby, or numerous other languages used in backend web development. With CMSs students, instructors, and researchers can create visually appealing websites with powerful features and minimal friction, without ever seeing a line of code. User interfaces resemble Microsoft Word much more than a traditional code editor such as Visual Studio. Moreover, the workflow follows a straightforward process: users simply define their desired pages, specify required features, and construct their sites accordingly. This accessibility has democratized web development within academic contexts, removing technical barriers that once limited digital scholarship and pedagogical innovation."
   ]
  },
  {
   "cell_type": "markdown",
   "metadata": {
    "citation-manager": {
     "citations": {
      "h84cu": [
       {
        "id": "4951909/WMB658F8",
        "source": "zotero"
       }
      ]
     }
    },
    "editable": true,
    "slideshow": {
     "slide_type": ""
    },
    "tags": []
   },
   "source": [
    "However, these advantages carry significant limitations. CMSs operate as predetermined systems in which developers establish all available functionalities for end users. Extending these pre-built capabilities demands substantial technical expertise that contradicts the platforms' promise of accessibility. For non-technical users, CMSs foreclose the vast array of technological possibilities. Johanna Drucker has characterized the relationship between user and pre-built platform as “requiring submission, not invention,” and that intellectual engagement suffers as these “platforms have their protocols, and the user must follow them, disciplining mind and imagination in a practice of alignment with what is possible in the program” (<cite id=\"h84cu\"><a href=\"#zotero%7C4951909%2FWMB658F8\">(O’Sullivan 2023)</a></cite>). "
   ]
  },
  {
   "cell_type": "markdown",
   "metadata": {
    "editable": true,
    "slideshow": {
     "slide_type": ""
    },
    "tags": []
   },
   "source": [
    "This tension underscores a central paradox in digital history pedagogy. CMSs both standardize digital history practices by contributing to the field’s methodological maturation while also shielding students from the computational processes that underlie digital scholarship. The very ease of use that makes these platforms pedagogically attractive may also limit students’ capacity to understand how technological choices shape and constrain digital arguments."
   ]
  },
  {
   "cell_type": "markdown",
   "metadata": {
    "editable": true,
    "slideshow": {
     "slide_type": ""
    },
    "tags": [
     "hermeneutics"
    ]
   },
   "source": [
    "### Choosing and Using Scalar"
   ]
  },
  {
   "cell_type": "markdown",
   "metadata": {
    "editable": true,
    "slideshow": {
     "slide_type": ""
    },
    "tags": [
     "hermeneutics"
    ]
   },
   "source": [
    "These strengths and limits framed my own classroom use of Scalar. In both Digital Documentary Publishing (University of Illinois at Urbana-Champaign, Fall 2023) and Digital Public History (University of Florida, Spring 2025), I opted to use Scalar. Both courses adapted John Randolph's pedagogical model, which centers  collaborative learning. Students worked in groups of three to four to investigate understudied yet historically significant primary sources, conduct research, and develop digital exhibits for public audiences. The point of the courses was not to become an expert in Scalar, but to learn historical principles such as primary source analysis, argumentation, and the tenets of public history, while using technology to bring historical knowledge production to digital spaces. The course consisted of four main units:\n",
    "\n",
    "1. History and Its Sources, Yesterday and Today: This introductory unit examined the theoretical foundations of primary source production and the ways digital technologies have transformed both their creation and preservation. Students analyzed the processes through which primary sources reach the present, focusing on the deliberate choices and historical contingencies that shaped their survival. Written assignments critically assessed these transmission processes and considered their implications for historical interpretation. (3 weeks)\n",
    "2. Publishing the Past in the Digital Age: Documentary publishing was a key component in these courses and this unit introduced concepts of scholarly editions. Students were also introduced to the final project through a bird’s eye overview so that they knew “where” the course was taking them. Writing assignments consisted of comparing analogue and digital scholarly editions with a specific emphasis on benefits and drawbacks between both methods. (2.5 weeks)\n",
    "3. Studying Your Source and Imaging Its Place in History: Students conducted intensive research on their assigned primary sources, tracing their sources’ biographical trajectories from creation through digitization while situating them within broader historical contexts. Each student produced a substantial contextual research essay. Individual contributions provided the foundational content for the digital exhibits. (2.5 weeks)\n",
    "4. Creating Your Prototype Edition: The final unit emphasized the translation of scholarly research into digital public history. Class sessions included Scalar tutorials, discussions of presentation design and accessibility standards, instruction in metadata conventions, collaborative workshops, and project presentations. (6 weeks)\n",
    "\n",
    "This scaffolded progression moved deliberately from theoretical foundations to practical application: beginning with traditional historical inquiry, to addressing digital transformation's opportunities and challenges, then developing critical source analysis skills, and finally culminating in public-facing digital scholarship.\n",
    "\n",
    "Scalar held several advantages for these courses. An abundance of tutorials already existed that could supplement my in-class demonstrations for using the system. Randolph’s open-source and peer-reviewed journal _SourceLab_ already showed the possibilities of using Scalar to create born-digital scholarly works. The figures below show polished and refined versions of a student project eventually published through _SourceLab_."
   ]
  },
  {
   "cell_type": "code",
   "execution_count": null,
   "metadata": {
    "editable": true,
    "slideshow": {
     "slide_type": ""
    },
    "tags": []
   },
   "outputs": [],
   "source": [
    "metadata={\n",
    "    \"jdh\": {\n",
    "        \"module\": \"object\",\n",
    "        \"object\": {\n",
    "            \"type\":\"image\",\n",
    "            \"source\": [\n",
    "                \"Limit the image size to width 1000px\"\n",
    "            ]\n",
    "        }\n",
    "    }\n",
    "}\n",
    "display(Image(\"media/ScalarIntroPage.png\", width=1000), metadata=metadata)\n",
    "\n",
    "metadata={\n",
    "    \"jdh\": {\n",
    "        \"module\": \"object\",\n",
    "        \"object\": {\n",
    "            \"type\":\"image\",\n",
    "            \"source\": [\n",
    "                \"Limit the image size to width 1000px\"\n",
    "            ]\n",
    "        }\n",
    "    }\n",
    "}\n",
    "display(Image(\"media/ScalarIntroductionLayout.png\", width=1000), metadata=metadata)\n",
    "\n",
    "metadata={\n",
    "    \"jdh\": {\n",
    "        \"module\": \"object\",\n",
    "        \"object\": {\n",
    "            \"type\":\"image\",\n",
    "            \"source\": [\n",
    "                \"Limit the image size to width 1000px\"\n",
    "            ]\n",
    "        }\n",
    "    }\n",
    "}\n",
    "display(Image(\"media/ScalarSourcePresentation.png\", width=1000), metadata=metadata)"
   ]
  },
  {
   "cell_type": "markdown",
   "metadata": {
    "citation-manager": {
     "citations": {
      "r2jwv": [
       {
        "id": "4951909/WMB658F8",
        "source": "zotero"
       }
      ]
     }
    },
    "editable": true,
    "slideshow": {
     "slide_type": ""
    },
    "tags": [
     "hermeneutics"
    ]
   },
   "source": [
    "Beyond web design aesthetics, Scalar integrated with numerous academic repositories to easily import media, but also contained easy-to-use methods to upload media or import media from other, non-academic sites. Scalar supports most major media formats for images, videos, and audio so that students could use almost anything they found to supplement their writing. The software can as easily drive a book-length work as it can an undergraduate essay. And, although I provided a very linear structure for my students to follow in their projects, the Scalar team’s born-digital mantra “is an indication of a different approach… ‘to take advantage of the unique capabilities of digital writing, including nested, recursive, and non-linear formats’” (<cite id=\"r2jwv\"><a href=\"#zotero%7C4951909%2FWMB658F8\">(O’Sullivan 2023)</a></cite>) This architectural flexibility allowed students to experiment with multi-layered historical narratives even within structured assignments, introducing them to the unique strengths and distinctive possibilities of digital scholarship that move beyond traditional linear structures.\n",
    "\n",
    "Scalar's limitations, however, revealed the critical importance of institutional investment in digital pedagogy.  At the time, the platform did not have a footnote feature that aligned with what practicing historians expected or that provided a suitable digital version compared to analogue publications. This deficiency typically presents instructors with two unsatisfactory options: abandon the platform entirely or undertake the technically demanding task of developing custom tools. Fortunately, the Digital Humanities team at the University of Illinois had ported over their own Scalar installation several years before, created their own reusable template, and integrated a suitable footnote feature. Rather than using the standard version of Scalar hosted for free on University of Southern California’s (USC) servers, I was able to use the modified version at the University of Illinois. The customized installation represented a significant institutional investment by UIUC: information technology expertise to install Scalar on a server, coding expertise and time to create a customized version of Scalar, and all the expenditures to host past and future Scalar sites created on the server along with maintaining subject matter experts. Few universities can afford such an investment and most who ultimately choose Scalar will be working with the standard template on USC servers.\n",
    "\n",
    "Scalar functioned as a no-code platform that met all functional requirements of the course and accommodated the features students sought for their projects. The examples in the Data Layer below show HTML code for textual elements and footnotes generated automatically by the CMS; students worked exclusively within the WYSIWYG editor. The University of Illinois digital humanities team managed all CSS in the background."
   ]
  },
  {
   "cell_type": "code",
   "execution_count": null,
   "metadata": {
    "editable": true,
    "slideshow": {
     "slide_type": ""
    },
    "tags": []
   },
   "outputs": [],
   "source": [
    "<a data-annotations=\"\" class=\"inline wrap\" data-caption=\"description\" data-size=\"medium\" data-align=\"right\" resource=\"media/nettie-hunt-and-daughter-after-brown-v-board\" name=\"scalar-inline-media\" href=\"https://iopn-sandbox.library.illinois.edu/scalar/zora-neale-hurston-letter/media/Nettie%20Hunt%20and%20Daughter.jpg\"\\>\\</a\\>&nbsp;&nbsp; &nbsp; &nbsp;Student project example text.\\<sup data-footnote-id=\"2nw2q\"\\>\\<a href=\"#footnote-1\" id=\"footnote-marker-1-1\" rel=\"footnote\"\\>1\\</a\\>\\</sup\\>&nbsp;Addiontal student sample text.\\<sup data-footnote-id=\"obqdb\"\\>\\<a href=\"#footnote-2\" id=\"footnote-marker-2-1\" rel=\"footnote\"\\>2\\</a\\>\\</sup\\>&nbsp;Final student sample text with footnote.\\<sup data-footnote-id=\"lwohc\"\\>\\<a href=\"#footnote-3\" id=\"footnote-marker-3-1\" rel=\"footnote\"\\>3\\</a\\>\\</sup\\>"
   ]
  },
  {
   "cell_type": "code",
   "execution_count": null,
   "metadata": {
    "editable": true,
    "slideshow": {
     "slide_type": ""
    },
    "tags": []
   },
   "outputs": [],
   "source": [
    "<div class=\"scalarfootnotes\"\\>\n",
    "\t  <hr aria-label=\"scalarfootnotes below\" />\n",
    "\t  <header>\n",
    "\t    <h2>Footnotes\n",
    "\t    </h2>\n",
    "\t  </header>\n",
    "\t  <ol><li id=\"footnote-1\" data-footnote-id=\"2nw2q\"><cite>Darlene Clark Hine et al.,&nbsp;<em>The African-American Odyssey</em>, Vol. 2, 7th ed. (New York: Pearson, 2018), 621.</cite><a href=\"#footnote-marker-1-1\">&crarr;</a></li><li id=\"footnote-2\" data-footnote-id=\"obqdb\"><cite>Ibid, 621.</cite><a href=\"#footnote-marker-2-1\">&crarr;</a></li><li id=\"footnote-3\" data-footnote-id=\"lwohc\"><cite>Wim Roefs, &quot;Civil Rights Movement,&quot; In&nbsp;<em>Black Women in America</em>, (Oxford: Oxford University Press, 2005). https://www.oxfordreference.com/display/10.1093/acref/9780195156775.001.0001/acref-9780195156775-e-0069?rskey=4PIf9B.</cite><a href=\"#footnote-marker-3-1\">&crarr;</a></li><li id=\"footnote-4\" data-footnote-id=\"z1jvd\"><cite>Hurston, Z.N. TLS to Mary Holland, Merritt Island, Fla. (3p. 8 1/2 x 11). Thoughts on Pepper and Zora&#39;s termination at the library, 1957, June 27, Box: 2, Folder: 90. Zora Neale Hurston Papers, MS Group 006. Special and Area Studies Collections, George A. Smathers Libraries, University of Florida, 1.</cite><a href=\"#footnote-marker-4-1\">&crarr;</a></li><li id=\"footnote-5\" data-footnote-id=\"g6g8y\"><cite>Andrew Delbanco, &ldquo;The Political Incorrectness of Zora Neale Hurston,&rdquo; <em>The Journal of Blacks in Higher Education</em>, no. 18 (1997): 103, https://doi.org/10.2307/2998779; Oneka LaBennett, &ldquo;Zora Neale Hurston,&rdquo; in Oxford Bibliographies: Anthropology, last modified November 28, 2016, https://doi.org/10.1093/obo/9780199766567-0160; Olivia Marcucci, &ldquo;Zora Neale Hurston and the Brown Debate: Race, Class, and the Progressive Empire,&rdquo; <em>The Journal of Negro Education </em>86, no. 1 (Winter, 2017): 15, https://doi.org/10.7709/jnegroeducation.86.1.0013.</cite><a href=\"#footnote-marker-5-1\">&crarr;</a></li><li id=\"footnote-6\" data-footnote-id=\"gbjkt\"><cite>Marcucci, &quot;Hurston and the Brown Debate&quot;, 13.</cite><a href=\"#footnote-marker-6-1\">&crarr;</a></li><li id=\"footnote-7\" data-footnote-id=\"uj3e1\"><cite>Hurston, Z.N. TLS to Mary Holland, 3. &nbsp;</cite><a href=\"#footnote-marker-7-1\">&crarr;</a></li>\n",
    "\t  </ol>\n",
    "\t</div>"
   ]
  },
  {
   "cell_type": "markdown",
   "metadata": {
    "citation-manager": {
     "citations": {
      "5t3ng": [
       {
        "id": "4951909/WVH3WVAE",
        "source": "zotero"
       }
      ],
      "g73i4": [
       {
        "id": "4951909/WMB658F8",
        "source": "zotero"
       }
      ]
     }
    },
    "editable": true,
    "slideshow": {
     "slide_type": ""
    },
    "tags": []
   },
   "source": [
    "Scalar proved itself a powerful content management system that allowed students to write text, maintain scholarly conventions of footnotes and metadata, import or link to media, and present their work in a visually appealing format for an educated public. Functionality came at a high cost. Although Scalar’s WYSIWYG environment resembles Wordpress and its text editing tools operate much like Microsoft Word or Google Docs that students are already familiar with, many features required explicit documentation, instructor demonstration, and time for students to practice and implement. Though theory balanced practice, the technical aspects of the final project consumed 6 of 14 weeks of the semester, approximately 43% of course time. Professors often bemoan the massive amount of material to cover in a single semester; a feature-rich CMS intensifies this pressure, effectively requiring that the digital project—its epistemological framing, technical execution, and methodological rationale—become central to the course.\n",
    "\n",
    "It is true that an instructor could shave time off from students achieving technical proficiency. Yet this risks leading to “buttonology,” or introducing software to students in a cursory manner without a real understanding of the wider context (<cite id=\"5t3ng\"><a href=\"#zotero%7C4951909%2FWVH3WVAE\">(Russell and Hensley 2017)</a></cite>). Students learn that pressing a button produces a particular result, but never develop the adaptability to respond when a software update alters functionality or when they transition to a different platform. Buttonology produces students who can proficiently use one version of one software package, but not necessarily any other digital tools. Such cursory acquaintances ensure that the “operations of the algorithms remain unseen, taken for granted, unexamined, and out of range of intervention” which “result in students very well versed in a single platform but ignorant of the underlying issues that it addresses” (<cite id=\"g73i4\"><a href=\"#zotero%7C4951909%2FWMB658F8\">(O’Sullivan 2023)</a></cite>). Learning widely-used CMSs such as Omeka or Scalar is beneficial, but given the rapid pace of technological change, adaptability is often more valuable and more sought after in the non-academic workforce than deep specialization. Achieving this adaptability requires dedicating class time beyond the initial “button-pressing” phase to help students grasp the developers’ design decisions and understand how the software approaches real-world problems.\n",
    "\n",
    "At the same time, Scalar’s familiar interfaces ensured accessibility to the platform. No student was “left behind” because the technical aspects of web development were abstracted away. If a student could use a word processor (and they were required to in order to write their papers in the first 8 weeks of class), it was only marginally more difficult to create and publish pages in Scalar. Although digital historians should always be wary of the “black-box” effect of software, Scalar pushed aside the more difficult technical aspects of web development that allowed students to continue to critically engage with their primary and secondary sources and development their historical argumentation.  In this way, Scalar functioned as a sophisticated presentation tool that kept the course centered on historical knowledge production and communication rather than turning it into a computer science class.\n",
    "\n",
    "While Scalar offered polished presentations and a familiar development environment, its demands on class time and risk of superficial technical engagement led me to explore a different approach. The second case study focuses on a minimalist framework, ScholarMinPub, that trades visual refinement for deeper technological transparency, reduced time investment, and greater accessibility."
   ]
  },
  {
   "cell_type": "markdown",
   "metadata": {
    "editable": true,
    "slideshow": {
     "slide_type": ""
    },
    "tags": []
   },
   "source": [
    "## Case Study 2: Minimalist Computing Frameworks"
   ]
  },
  {
   "cell_type": "markdown",
   "metadata": {
    "citation-manager": {
     "citations": {
      "ciqfu": [
       {
        "id": "4951909/DUB54MKG",
        "source": "zotero"
       }
      ],
      "k10o6": [
       {
        "id": "4951909/DUB54MKG",
        "source": "zotero"
       }
      ],
      "mnswz": [
       {
        "id": "4951909/KSHIHATD",
        "source": "zotero"
       }
      ],
      "xh6rl": [
       {
        "id": "4951909/WMB658F8",
        "source": "zotero"
       }
      ]
     }
    },
    "editable": true,
    "slideshow": {
     "slide_type": ""
    },
    "tags": []
   },
   "source": [
    "Digital history specialists associate minimalist computing with smaller, simpler, and more transparent technologies: Jekyll instead of Omeka, WordPress, or Scalar; Markdown or plain text rather than XML; CSV files instead of SQL databases; static websites rather than dynamic web apps; and GitHub Pages over costly cloud hosting. But Roopika Risam and Alex Gil note that minimalist computing is more a “mode of thinking about digital humanities praxis” than a specific set of tools (<cite id=\"k10o6\"><a href=\"#zotero%7C4951909%2FDUB54MKG\">(Risam and Gil 2022)</a></cite>). The digital historian always operates within constraints: time, money, resources, technical skills, computing power. The minimalist mindset “advocates for using _only_ the technologies that are necessary and sufficient for developing digital humanities scholarship in such constrained environments” (<cite id=\"ciqfu\"><a href=\"#zotero%7C4951909%2FDUB54MKG\">(Risam and Gil 2022)</a></cite>). The following is not an exhaustive list, but highlights some of the core principles that define minimalist computing to aid the digital historian in navigating these constraints:\n",
    "\n",
    "1. Simplicity: choosing tools that are easy to understand, maintain, and teach\n",
    "2. Sustainability: prioritizing long-term preservation and low energy use\n",
    "3. Accessibility: ensuring that tools and outputs are usable across devices and internet speeds, especially in under-resourced contexts.\n",
    "4. Transparency: preferring open-source software and non-proprietary formats that allow for full user control and future migration.\n",
    "5. Minimal dependencies: avoiding heavy software stacks or proprietary platforms where possible.\n",
    "\n",
    "Adherents of minimalist computing are aware of a fact that surprises many, namely that when an article, image, or other content is posted to the internet, it does not automatically enter any kind of long-term storage. In the absence of sustained preservation efforts and funding, the internet content is inherently ephemeral. In academia, it “is also becoming increasingly clear that the existing body of highly specialized and idiosyncratic publications of the last twenty years is no longer sustainable, and publishers (including academic centers) are increasingly being forced to make difficult decisions around closing down publications even when in some cases they are still important and in regular use” (<cite id=\"xh6rl\"><a href=\"#zotero%7C4951909%2FWMB658F8\">(O’Sullivan 2023)</a></cite>). We already confront a “legacy corpus” from the 1990s and 2000s—that uses the deprecated technologies of those decades—that requires preservation as well as resources just to remain accessible (<cite id=\"mnswz\"><a href=\"#zotero%7C4951909%2FKSHIHATD\">(Smithies et al. 2019)</a></cite>). Digital decay affects not only older projects but also threatens contemporary work that relies on complex technical infrastructures and ongoing institutional support. Digital historians who practice minimalist computing build low-maintenance, cost-effective projects designed to remain functional, readable, and accessible for decades.\n",
    "\n",
    "From a pedagogical point of view, bringing minimalist frameworks to students in the classroom can result in greater equity in technological accessibility, a deeper understanding of the underlying technology, and a closer connection between knowledge production and technology. Many available CMSs are open-source and free to use. For example, the Alliance for Networking Visual Culture provides Scalar free of charge and the University of Southern California charges nothing to host digital projects built on their Scalar template. Ironically, it is precisely CMSs’ excellent presentation capabilities that also hinder their accessibility. The sophisticated presentation capabilities that make CMSs attractive create unexpected accessibility challenges. These platforms assume users possess relatively powerful, modern devices capable of rendering complex HTML, JavaScript, and CSS. This assumption may hold for many students at well-resourced American universities, but it excludes both international students with limited technological access and the broader publics these digital exhibits strive to reach. Community members accessing student projects encounter rendering failures, slow load times, or complete inaccessibility on older devices or slow internet connections. \n",
    "\n",
    "Minimalist frameworks address these equity concerns through deliberate technical restraint. By prioritizing simple HTML and minimal styling over dynamic features, these approaches ensure projects remain accessible across diverse technological contexts. This accessibility extends beyond viewing to creation. Students can develop minimalist projects on virtually any computer capable of running a basic text editor. Working within such frameworks also brings students closer to the underlying technologies that CMSs typically abstract away. They observe immediate connections between their code and its output, understanding how each technical decision influences the presentation of their argument. This transparency demystifies digital knowledge production, revealing technology not as a neutral container for historical content but as a shaping force in constructing historical narratives. "
   ]
  },
  {
   "cell_type": "markdown",
   "metadata": {
    "editable": true,
    "slideshow": {
     "slide_type": ""
    },
    "tags": [
     "hermeneutics"
    ]
   },
   "source": [
    "### Developing ScholarMinPub and Its Pedagogy"
   ]
  },
  {
   "cell_type": "markdown",
   "metadata": {
    "editable": true,
    "slideshow": {
     "slide_type": ""
    },
    "tags": [
     "hermeneutics"
    ]
   },
   "source": [
    "Although I observed the pedagogical benefits of using a CMS such as Scalar in the classroom, I wanted some way to bring more digital history and digital tools to my courses without the significant overhead costs in time that a full platform required. How could I increase digital pedagogy without affecting students building traditional historical skillsets? How could I use digital technology to enhance students’ historical understanding, as a supplement rather than a centerpiece of the course?\n",
    "\n",
    "In early 2024 I became one of the lead developers on John Randolph’s MinDoc project, a framework that transferred _SourceLab_’s digital documentary publishing template from Scalar to minimalist technologies using GitHub, Jekyll, and Markdown. CSS, HTML, and JavaScript occupied a deeper layer within the framework that would be accessible to students with more technical proficiency, but no student would need to touch more than MarkDown to complete a fully functional digital project. After completing the first beta version of MinDoc, I realized the framework could be modified to work with general digital history presentations. It could be suitable in instances where instructors seek to incorporate digital methods without restructuring their entire curriculum around technical instruction. \n",
    "\n",
    "I forked the MinDoc project, modified it for generalized use, and provided it as an open-source framework titled ScholarMinPub. Students used the framework for their final projects in my course Nineteenth-Century European History (University of Florida, Fall 2024), a class not focused on digital history. The final projects consisted of extended historical analysis essays supplemented with digital media and digitized primary sources. Although the resulting projects lacked the polished aesthetic flair of Scalar, the minimalist framework contained most of the important features of Scalar (text, media presentation, a zooming functionality for viewing primary source details, footnotes capabilities). This feature parity emerged naturally from MinDoc's origins as a minimalist interpretation of Scalar's core functionality. The figures below illustrate these structural similarities, showing how ScholarMinPub preserves Scalar's fundamental presentation logic while eliminating its technical complexity."
   ]
  },
  {
   "cell_type": "code",
   "execution_count": null,
   "metadata": {
    "editable": true,
    "slideshow": {
     "slide_type": ""
    },
    "tags": [
     "hermeneutics"
    ]
   },
   "outputs": [],
   "source": [
    "metadata={\n",
    "    \"jdh\": {\n",
    "        \"module\": \"object\",\n",
    "        \"object\": {\n",
    "            \"type\":\"image\",\n",
    "            \"source\": [\n",
    "                \"Limit the image size to width 1000px\"\n",
    "            ]\n",
    "        }\n",
    "    }\n",
    "}\n",
    "display(Image(\"media/ScholarMinPubIntroPage.png\", width=1000), metadata=metadata)\n",
    "\n",
    "metadata={\n",
    "    \"jdh\": {\n",
    "        \"module\": \"object\",\n",
    "        \"object\": {\n",
    "            \"type\":\"image\",\n",
    "            \"source\": [\n",
    "                \"Limit the image size to width 1000px\"\n",
    "            ]\n",
    "        }\n",
    "    }\n",
    "}\n",
    "display(Image(\"media/ScholarMinPubIntroductionLayout.png\", width=1000), metadata=metadata)\n",
    "\n",
    "metadata={\n",
    "    \"jdh\": {\n",
    "        \"module\": \"object\",\n",
    "        \"object\": {\n",
    "            \"type\":\"image\",\n",
    "            \"source\": [\n",
    "                \"Limit the image size to width 1000px\"\n",
    "            ]\n",
    "        }\n",
    "    }\n",
    "}\n",
    "display(Image(\"media/ScholarMinPubZoomInFeature.png\", width=1000), metadata=metadata)"
   ]
  },
  {
   "cell_type": "markdown",
   "metadata": {
    "editable": true,
    "slideshow": {
     "slide_type": ""
    },
    "tags": [
     "hermeneutics"
    ]
   },
   "source": [
    "Like CMSs, ScholarMinPub abstracts away the most powerful, but also the most difficult aspects of web development. It made little sense to cram crash courses on CSS, HTML, or JavaScript into a history course, but spending twenty minutes on Markdown and thirty minutes on file system structures seemed a worthwhile time commitment. Both provided crucial tech skills without overwhelming students. The figures below depict the file structure environment students encountered, the `media files` directory they directly interacted with, the `configuration files` directory they were instructed not to alter, and the GitHub Markdown editing environment in which they worked on their projects. The Data Layer below shows the extent of student coding in Markdown with a YAML header."
   ]
  },
  {
   "cell_type": "code",
   "execution_count": null,
   "metadata": {
    "editable": true,
    "slideshow": {
     "slide_type": ""
    },
    "tags": [
     "hermeneutics"
    ]
   },
   "outputs": [],
   "source": [
    "metadata={\n",
    "    \"jdh\": {\n",
    "        \"module\": \"object\",\n",
    "        \"object\": {\n",
    "            \"type\":\"image\",\n",
    "            \"source\": [\n",
    "                \"Limit the image size to width 1000px\"\n",
    "            ]\n",
    "        }\n",
    "    }\n",
    "}\n",
    "display(Image(\"media/ScholarMinPubMainRepository.png\", width=1000), metadata=metadata)\n",
    "\n",
    "metadata={\n",
    "    \"jdh\": {\n",
    "        \"module\": \"object\",\n",
    "        \"object\": {\n",
    "            \"type\":\"image\",\n",
    "            \"source\": [\n",
    "                \"Limit the image size to width 1000px\"\n",
    "            ]\n",
    "        }\n",
    "    }\n",
    "}\n",
    "display(Image(\"media/ScholarMinPubStudentFileManagement.png\", width=1000), metadata=metadata)\n",
    "\n",
    "metadata={\n",
    "    \"jdh\": {\n",
    "        \"module\": \"object\",\n",
    "        \"object\": {\n",
    "            \"type\":\"image\",\n",
    "            \"source\": [\n",
    "                \"Limit the image size to width 1000px\"\n",
    "            ]\n",
    "        }\n",
    "    }\n",
    "}\n",
    "display(Image(\"media/ScholarMinPubConfigFiles.png\", width=1000), metadata=metadata)\n",
    "\n",
    "metadata={\n",
    "    \"jdh\": {\n",
    "        \"module\": \"object\",\n",
    "        \"object\": {\n",
    "            \"type\":\"image\",\n",
    "            \"source\": [\n",
    "                \"Limit the image size to width 1000px\"\n",
    "            ]\n",
    "        }\n",
    "    }\n",
    "}\n",
    "display(Image(\"media/ScholarMinPubEditingEnvironment.png\", width=1000), metadata=metadata)"
   ]
  },
  {
   "cell_type": "code",
   "execution_count": null,
   "metadata": {
    "editable": true,
    "slideshow": {
     "slide_type": ""
    },
    "tags": []
   },
   "outputs": [],
   "source": [
    "---\n",
    "\tlayout: default\n",
    "\ttitle: Introduction\n",
    "\tnumber: 1\n",
    "\t---\n",
    "\t# Introduction\n",
    "\t\n",
    "\tThis is where you introduce your project to your audience. You should summarize briefly the topic you are working on. (250-350 words)\n",
    "\t\n",
    "\tThe following is sample text to show the capabilities of presenting text with various formatting (such as bold), different languages, adding footnotes, and images.[^1]\n",
    "\t\n",
    "\t\n",
    "\t[^1]: First example footnote. View other pages to see sample methods of working with Markdown."
   ]
  },
  {
   "cell_type": "markdown",
   "metadata": {
    "editable": true,
    "slideshow": {
     "slide_type": ""
    },
    "tags": [
     "hermeneutics"
    ]
   },
   "source": [
    "Some aspects were impossible to completely abstract away. While a CMS offers a button to import and place an image on a page, ScholarMinPub uses Liquid, an open-source template written in Ruby. I wrote explicit instructions for students on copying-and-pasting the Liquid template to place an image, video, or audio file on a page. Students needed only modify the file name. They might see and “work with” scary code, but copying and pasting is the only skill they actually needed. The Data Layer below shows the Liquid code students copied and pasted when they needed to include a media file. Students needed only to substitute “PrussianInfantryHohenfriedberg,” the stock image with their media file of choice."
   ]
  },
  {
   "cell_type": "code",
   "execution_count": null,
   "metadata": {
    "editable": true,
    "slideshow": {
     "slide_type": ""
    },
    "tags": []
   },
   "outputs": [],
   "source": [
    "% assign media = site.media_metadata | where_exp: \"item\", \"item.name == 'PrussianInfantryHohenfriedberg'\" %\n",
    "\t{% include media.html pages=media %}"
   ]
  },
  {
   "cell_type": "markdown",
   "metadata": {
    "editable": true,
    "slideshow": {
     "slide_type": ""
    },
    "tags": [
     "hermeneutics"
    ]
   },
   "source": [
    "Students also interacted with the configuration YAML file, but only to change the “baseurl” to the name of their projects. Many students reflected that the YAML file’s esoteric nature initially frightened them that they might alter a line and break their entire project. But all students persisted, followed instructions closely, and successfully altered the line correctly."
   ]
  },
  {
   "cell_type": "code",
   "execution_count": null,
   "metadata": {
    "editable": true,
    "slideshow": {
     "slide_type": ""
    },
    "tags": []
   },
   "outputs": [],
   "source": [
    "title: Title\n",
    "\temail: your-email@example.com\n",
    "\tdescription: by Authors\n",
    "\t\n",
    "\tbaseurl: \"/ScholarMinPub\" # the subpath of your site. Change it if the name of your repository is other than \"ScholarMinPub\"\n",
    "\t\n",
    "\ttwitter_username: jekyllrb\n",
    "\tgithub_username:  jekyll\n",
    "\t\n",
    "\t# Custom directory structure\n",
    "\tlayouts_dir: configuration_files/_layouts\n",
    "\tincludes_dir: configuration_files/_includes\n",
    "\t\n",
    "\tsass:\n",
    "\t  load_paths:\n",
    "\t    - configuration_files/_sass\n",
    "\t\n",
    "\tassets:\n",
    "\t  sources:\n",
    "\t    - configuration_files/assets/images\n",
    "\t    - configuration_files/assets/js\n",
    "\t    - configuration_files/assets/css\n",
    "\t    - media_files/images\n",
    "\t    - media_files/audio\n",
    "\t    - media_files/video\n",
    "\t    - media_files/pdfs\n",
    "\t\n",
    "\tcollections_dir: media_files\n",
    "\t\n",
    "\t\n",
    "\t# Build settings\n",
    "\t\n",
    "\tplugins:\n",
    "\t  - jekyll-feed\n",
    "\t\n",
    "\tcollections:\n",
    "\t  media_metadata:\n",
    "\t    output: true\n",
    "\t    layout: 'image_description'"
   ]
  },
  {
   "cell_type": "markdown",
   "metadata": {
    "editable": true,
    "slideshow": {
     "slide_type": ""
    },
    "tags": [
     "hermeneutics"
    ]
   },
   "source": [
    "Sample code also existed in all projects to include a required TimelineJS presentation. Students only needed to alter the URL in the block of code while the TimelineJS presentation required entering data into a spreadsheet."
   ]
  },
  {
   "cell_type": "code",
   "execution_count": null,
   "metadata": {
    "editable": true,
    "slideshow": {
     "slide_type": ""
    },
    "tags": []
   },
   "outputs": [],
   "source": [
    "<iframe class='timeline-iframe' src='https://cdn.knightlab.com/libs/timeline3/latest/embed/index.html?source=12ZNkEbnN4RnsWLrW2Ekpz2cQV_2QA-3WgJTP4WUKduk&font=Default&lang=en&initial_zoom=2&height=650' width='100%' height='650' webkitallowfullscreen mozallowfullscreen allowfullscreen frameborder='0'\\>\\</iframe\\>"
   ]
  },
  {
   "cell_type": "markdown",
   "metadata": {
    "editable": true,
    "slideshow": {
     "slide_type": ""
    },
    "tags": [
     "hermeneutics"
    ]
   },
   "source": [
    "Experience with creating Markdown links occurred through uploading PDF files directly to the media files folder in the correct location and altering the filename."
   ]
  },
  {
   "cell_type": "code",
   "execution_count": null,
   "metadata": {
    "editable": true,
    "slideshow": {
     "slide_type": ""
    },
    "tags": []
   },
   "outputs": [],
   "source": [
    "[Download PDF file](#)({ site.baseurl }/media_files/pdfs/newspaper1942.pdf)"
   ]
  },
  {
   "cell_type": "markdown",
   "metadata": {
    "citation-manager": {
     "citations": {
      "232gr": [
       {
        "id": "4951909/ICSTWWRP",
        "source": "zotero"
       }
      ],
      "e2elu": [
       {
        "id": "4951909/KM5SR3PC",
        "source": "zotero"
       }
      ]
     }
    },
    "editable": true,
    "slideshow": {
     "slide_type": ""
    },
    "tags": []
   },
   "source": [
    "For the most part the two-course experiment with ScholarMinPub in the Fall semester of 2024 successfully integrated digital tools into a traditional history course not specifically geared toward digital history. The classes spent 3 weeks compared to 6 weeks in my courses that used Scalar. This represented 20% of all class time compared to 43%. Much of this time, however, was not spent only on the digital component, but rather the broader questions of researching students’ topics and coordinating group activities and responsibilities. It is also only anecdotal evidence, but students were more likely to verbally exhibit pride and satisfaction in their final project compared to those in the Scalar-based classes. When questioned about their feelings, they most often expressed notions that they felt the project to be challenging and, when they managed to make their site project work, they felt satisfaction.\n",
    "\n",
    "The experiment was a qualified success. GitHub is a powerful platform for teamwork, but it requires version control through Git’s pulling, pushing, and committing files, either through an integrated development environment (IDE) or the command line. In contrast, the students worked on their files through the Markdown editor and the file management GUI built into the GItHub site. Git seemed beyond the purview of the course and its goals, and creating one GitHub account per group raised the specter of students losing access at crucial moments. Given these constraints, I decided that each group should have a dedicated “webmaster” who would actually fill the role of working with GitHub, interacting with the files, and adding content. Other group members wrote their historical analyses in Markdown and submitted media files to the webmaster who would then upload files and ensure functionality. All students, however, created a GitHub account with the ScholarMinPub template and worked through the class lectures on how to use the technologies in addition to learning Markdown through writing their analyses. The “three-speed problem” presents a persistent problem for integrating digital history into the classroom as “the instructor is always and inexorably going too quickly for some, too slowly for others, and at just the right speed for a few students” (<cite id=\"232gr\"><a href=\"#zotero%7C4951909%2FICSTWWRP\">(Croxall and Jakacki 2023)</a></cite>). Allowing the groups to select their own webmaster stacked the deck to ensure webmasters were more likely than the average student to find digital technologies interesting and exciting.\n",
    "\n",
    "Further iterations of this group digital project must confront the issue of speed. At least part of it can be resolved through a more seamless ability to collaborate that does not require technical skills on the level of Git. Google Docs provides such a seamless experience and meets the requirement for equity and accessibility through free use, though it runs up against other aspects of the minimalist paradigm and does not integrate particularly well with GitHub. And, despite the self-selection nature of the “webmaster” position, the groups as a whole felt strongly that they had all contributed in meaningful ways to their final projects—indeed, the team structure mimicked many real-life projects in which every team member plays roles of varying levels of technological sophistication. More so than Scalar, ScholarMinPub met the needs of average college students who pursue roles with non-academic entities in which a “significant number of employers (n=59) prefer applicants to have front-end web development and design skills, which was often stated as ‘understanding of web design standards using HTML, CSS, and JavaScript, and web development platforms’” (<cite id=\"e2elu\"><a href=\"#zotero%7C4951909%2FKM5SR3PC\">(Walsh et al. 2022)</a></cite>). ScholarMinPub and other minimalist platforms provide students an early introduction, a stepping stone to meeting their goals for employability.\n",
    "\n",
    "Taken together, these two teaching experiments reveal how tool selection directly shapes what students learn, how they engage, and what skills they take from the course. The final section reflects upon the Scalar and ScholarMinPub pedagogical experiences and draws out broader guidance for history instructors."
   ]
  },
  {
   "cell_type": "markdown",
   "metadata": {
    "editable": true,
    "slideshow": {
     "slide_type": ""
    },
    "tags": []
   },
   "source": [
    "## Conclusion"
   ]
  },
  {
   "cell_type": "markdown",
   "metadata": {
    "citation-manager": {
     "citations": {
      "3fuvg": [
       {
        "id": "4951909/DUB54MKG",
        "source": "zotero"
       }
      ],
      "68vq5": [
       {
        "id": "4951909/DUB54MKG",
        "source": "zotero"
       }
      ],
      "8s4gr": [
       {
        "id": "4951909/ICSTWWRP",
        "source": "zotero"
       }
      ],
      "feewo": [
       {
        "id": "4951909/EDFDI9UE",
        "source": "zotero"
       }
      ]
     }
    },
    "editable": true,
    "slideshow": {
     "slide_type": ""
    },
    "tags": []
   },
   "source": [
    "Pedagogy should be a core identity of digital history, not an afterthought. Both platforms such as feature-rich CMSs and minimalist frameworks play important roles in making this goal a reality. Student outcomes in one style of my classes or the other were neither better nor worse. The courses had different overarching goals, even if increasing digital literacy and skillsets formed a significant component of each. Digital literacy was a major component of both, but the rationale for tool choice varied. Those differences offer lessons for history instructors seeking to align technology with pedagogy.\n",
    "\n",
    "The tool an instructor chooses to use should always match the goal. That goal almost certainly possesses a strong pedagogical component tied into academia. The dearth of tenure-track positions ensures that a large number of graduate students must look beyond academia for employment. Positions in museums and heritage institutions where CMSs such as Scalar and Omeka dominate rank highly in many graduate students’ goals as academy-adjacent work. Museums often use established CMS systems such as Scalar and Omeka. Training in these platforms directly supports employability. The calculus is different for undergraduate students. Most will not pursue a doctorate in history and many come to college not just for analytical and writing skills that are the bread and butter of history coursework, but also to develop skills useful to gain and sustain employment. As Bowen and Watson note, as technological advances rapidly increase, “the job market changes more quickly” and “core skills and the ability to adapt increase in value,” causing employers to search out employees who “prioritize the ability to ask new questions, connect and interrogate new ideas, evaluate, iterate, and adapt to new responses” (<cite id=\"feewo\"><a href=\"#zotero%7C4951909%2FEDFDI9UE\">(Bowen and Watson 2024)</a></cite>). They wrote these lines regarding the advent of artificial intelligence, but the concept holds true for the centrality of computing in our lives more generally. Minimalist frameworks prioritize learning underlying computing concepts rather than fixed workflows. Students can more readily translate computing concepts to new platforms or frameworks than they can the locked-down designs of CMSs.\n",
    "\n",
    "Beyond matching goal with tool, instructors should adopt a more critical, intentional approach to technology selection, framed by the core questions of minimal computing—even if the instructor does not ultimately decide to use a minimalist framework. All instructors operate within certain constraints, whether it is institutional digital infrastructure, available class time, financial limitations, or the background skills with which students enter the classroom. Risam and Gil remind us that for all digital humanities projects, we should question: what we need; what we have; what we must prioritize; and, what we are willing to give up (<cite id=\"3fuvg\"><a href=\"#zotero%7C4951909%2FDUB54MKG\">(Risam and Gil 2022)</a></cite>). These questions lead to what technologies instructors should use in the classroom, but also when not to use technologies: “Digital Pedagogy is precisely not about using digital technologies for teaching and, rather, about approaching those tools from a critical pedagogical perspective. So, it is as much about using digital tools thoughtfully as it is about deciding when not to use digital tools, and about paying attention to the impact of digital tools on learning” (<cite id=\"8s4gr\"><a href=\"#zotero%7C4951909%2FICSTWWRP\">(Croxall and Jakacki 2023)</a></cite>). This is a powerful idea in an age defined by the digital and in which university administrations pursue the integration of technology with all aspects of pedagogy. Instructors should ask whether there is anything to be gained in bringing into the classroom a particular digital history assignment or tool. Does it serve learning objectives or the goals of the instructor and students? Sometimes the answer is no.\n",
    "\n",
    "Beyond technical and pedagogical fit, tool selection carries ethical weight. Platform choice can expand—or narrow—the inclusivity of the digital record, influencing whose voices and histories are preserved. Some proponents of minimal computing have made ethical considerations a central goal of their philosophy by attempting to “create a more level playing field for the future of a digital cultural record where the voices of those who have been excluded can be heard and valued through a more equitable, collaborative approach to the labor of knowledge production” (<cite id=\"68vq5\"><a href=\"#zotero%7C4951909%2FDUB54MKG\">(Risam and Gil 2022)</a></cite>). It is not the case, however, that only minimal computing leads to ethical outcomes. The digital humanities and digital history can take up these considerations more broadly both as discussions in the classroom and in choosing technologies that fit the needs of students and instructors.\n",
    "\n",
    "How we teach and what technologies we use or do not use in the classroom define in many ways the parameters, the limits, the possibilities of digital history. These are not peripheral concerns, but central to the question of what digital history is and what it will become."
   ]
  },
  {
   "cell_type": "code",
   "execution_count": null,
   "metadata": {
    "editable": true,
    "slideshow": {
     "slide_type": ""
    },
    "tags": []
   },
   "outputs": [],
   "source": []
  }
 ],
 "metadata": {
  "celltoolbar": "Tags",
  "citation-manager": {
   "items": {
    "zotero": {
     "4951909/48VB3VBE": {
      "author": [
       {
        "family": "Guldi",
        "given": "Jo"
       }
      ],
      "event-place": "Cambridge",
      "id": "4951909/48VB3VBE",
      "issued": {
       "date-parts": [
        [
         2023
        ]
       ]
      },
      "publisher": "Cambridge University Press",
      "publisher-place": "Cambridge",
      "system_id": "zotero|4951909/48VB3VBE",
      "title": "The Dangerous Art of Text Mining: A Methodology for Digital History",
      "type": "book"
     },
     "4951909/4TG9B4GK": {
      "author": [
       {
        "family": "Mattingly",
        "given": "William J. B."
       }
      ],
      "event-place": "Boca Raton, FL",
      "id": "4951909/4TG9B4GK",
      "issued": {
       "date-parts": [
        [
         2023
        ]
       ]
      },
      "publisher": "CRC Press",
      "publisher-place": "Boca Raton, FL",
      "system_id": "zotero|4951909/4TG9B4GK",
      "title": "Introduction to Python for Digital Humanists",
      "type": "book"
     },
     "4951909/B99NN5IV": {
      "author": [
       {
        "family": "Guiliano",
        "given": "Jennifer"
       }
      ],
      "event-place": "Durham",
      "id": "4951909/B99NN5IV",
      "issued": {
       "date-parts": [
        [
         2022
        ]
       ]
      },
      "publisher": "Duke University Press",
      "publisher-place": "Durham",
      "system_id": "zotero|4951909/B99NN5IV",
      "title": "A Primer for Teaching Digital History: Ten Design Principles",
      "type": "book"
     },
     "4951909/DUB54MKG": {
      "author": [
       {
        "family": "Risam",
        "given": "Roopika"
       },
       {
        "family": "Gil",
        "given": "Alex"
       }
      ],
      "container-title": "Digital Humanities Quarterly",
      "id": "4951909/DUB54MKG",
      "issued": {
       "date-parts": [
        [
         2022
        ]
       ]
      },
      "system_id": "zotero|4951909/DUB54MKG",
      "title": "Introduction: The Questions of Minimal Computing",
      "type": "article-journal",
      "volume": "16"
     },
     "4951909/EDFDI9UE": {
      "author": [
       {
        "family": "Bowen",
        "given": "José Antonio"
       },
       {
        "family": "Watson",
        "given": "C. Edward"
       }
      ],
      "event-place": "Baltimore",
      "id": "4951909/EDFDI9UE",
      "issued": {
       "date-parts": [
        [
         2024
        ]
       ]
      },
      "publisher": "Johns Hopkins University Press",
      "publisher-place": "Baltimore",
      "system_id": "zotero|4951909/EDFDI9UE",
      "title": "Teaching with AI: A Practical Guide to a New Era of Human Learning",
      "type": "book"
     },
     "4951909/I2BN9IN6": {
      "author": [
       {
        "family": "Drucker",
        "given": "Johanna"
       }
      ],
      "event-place": "London",
      "id": "4951909/I2BN9IN6",
      "issued": {
       "date-parts": [
        [
         2021
        ]
       ]
      },
      "publisher": "Routledge",
      "publisher-place": "London",
      "system_id": "zotero|4951909/I2BN9IN6",
      "title": "The Digital Humanities Coursebook: An Introduction to Digital Methods for Research and Scholarship",
      "type": "book"
     },
     "4951909/ICSTWWRP": {
      "author": [
       {
        "family": "Croxall",
        "given": "Brian"
       },
       {
        "family": "Jakacki",
        "given": "Diane K."
       }
      ],
      "event-place": "Minneapolis",
      "id": "4951909/ICSTWWRP",
      "issued": {
       "date-parts": [
        [
         2023
        ]
       ]
      },
      "publisher": "University of Minnesota Press",
      "publisher-place": "Minneapolis",
      "system_id": "zotero|4951909/ICSTWWRP",
      "title": "What We Teach When We Teach DH: Digital Humanities in the Classroom",
      "type": "book"
     },
     "4951909/IE66EGIT": {
      "author": [
       {
        "family": "Karsdorp",
        "given": "Folgert"
       },
       {
        "family": "Kestmont",
        "given": "Mike"
       },
       {
        "family": "Riddell",
        "given": "Allen"
       }
      ],
      "event-place": "Princeton, NJ",
      "id": "4951909/IE66EGIT",
      "issued": {
       "date-parts": [
        [
         2021
        ]
       ]
      },
      "publisher": "Princeton University Press",
      "publisher-place": "Princeton, NJ",
      "system_id": "zotero|4951909/IE66EGIT",
      "title": "Humanities Data Analysis: Case Studies with Python",
      "type": "book"
     },
     "4951909/KM5SR3PC": {
      "author": [
       {
        "family": "Walsh",
        "given": "John A."
       },
       {
        "family": "Cobb",
        "given": "Peter J."
       },
       {
        "family": "Fremery",
        "given": "Wayne de"
       },
       {
        "family": "Golub",
        "given": "Koraljka"
       },
       {
        "family": "Keah",
        "given": "Humphrey"
       }
      ],
      "container-title": "Journal of the American Society for Information Science and Technology",
      "id": "4951909/KM5SR3PC",
      "issue": "2",
      "issued": {
       "date-parts": [
        [
         2022
        ]
       ]
      },
      "page": "188-203",
      "system_id": "zotero|4951909/KM5SR3PC",
      "title": "Digital Humanities in the iSchool",
      "type": "article-journal",
      "volume": "73"
     },
     "4951909/KSHIHATD": {
      "author": [
       {
        "family": "Smithies",
        "given": "James"
       },
       {
        "family": "Westling",
        "given": "Carina"
       },
       {
        "family": "Sichani",
        "given": "Anna-Maria"
       },
       {
        "family": "Mellen",
        "given": "Pam"
       },
       {
        "family": "Ciula",
        "given": "Arianna"
       }
      ],
      "container-title": "Digital Humanities Quarterly",
      "id": "4951909/KSHIHATD",
      "issue": "1",
      "issued": {
       "date-parts": [
        [
         2019
        ]
       ]
      },
      "page": "1-16",
      "system_id": "zotero|4951909/KSHIHATD",
      "title": "Managing 100 Digital Humanities Projects: Digital Scholarship & Archiving in King’s Digital Lab",
      "type": "article-journal",
      "volume": "13"
     },
     "4951909/SU2NHYZG": {
      "author": [
       {
        "family": "Risam",
        "given": "Roopika"
       }
      ],
      "event-place": "Evanston, IL",
      "id": "4951909/SU2NHYZG",
      "issued": {
       "date-parts": [
        [
         2019
        ]
       ]
      },
      "publisher": "Northwestern University Press",
      "publisher-place": "Evanston, IL",
      "system_id": "zotero|4951909/SU2NHYZG",
      "title": "New Digital Worlds: Postcolonial Digital Humanities in Theory, Praxis, and Pedagogy",
      "type": "book"
     },
     "4951909/WJYK4N8X": {
      "author": [
       {
        "family": "Kokensparger",
        "given": "Brian"
       }
      ],
      "event-place": "Cham, Switzerland",
      "id": "4951909/WJYK4N8X",
      "issued": {
       "date-parts": [
        [
         2018
        ]
       ]
      },
      "publisher": "Springer",
      "publisher-place": "Cham, Switzerland",
      "system_id": "zotero|4951909/WJYK4N8X",
      "title": "Guide to Programming for the Digital Humanities: Lessons for Introductory Python",
      "type": "book"
     },
     "4951909/WMB658F8": {
      "editor": [
       {
        "family": "O'Sullivan",
        "given": "James"
       }
      ],
      "event-place": "London",
      "id": "4951909/WMB658F8",
      "issued": {
       "date-parts": [
        [
         2023
        ]
       ]
      },
      "publisher": "Bloomsbury",
      "publisher-place": "London",
      "system_id": "zotero|4951909/WMB658F8",
      "title": "The Bloomsbury Handbook to the Digital Humanities",
      "type": "book"
     },
     "4951909/WVH3WVAE": {
      "author": [
       {
        "family": "Russell",
        "given": "John E."
       },
       {
        "family": "Hensley",
        "given": "Merinda Kaye"
       }
      ],
      "container-title": "College and Research Libraries News",
      "id": "4951909/WVH3WVAE",
      "issue": "11",
      "issued": {
       "date-parts": [
        [
         2017
        ]
       ]
      },
      "page": "588-600",
      "system_id": "zotero|4951909/WVH3WVAE",
      "title": "Beyond Buttonology: Digital Humanities, Digital Pedagogy, and the ACRL Framework",
      "type": "article-journal",
      "volume": "78"
     },
     "4951909/ZVWDRAGM": {
      "author": [
       {
        "family": "Georgopoulou",
        "given": "Maria Sofia"
       },
       {
        "family": "Troussas",
        "given": "Christos"
       },
       {
        "family": "Triperina",
        "given": "Evangelia"
       },
       {
        "family": "Sgouropoulou",
        "given": "Cleo"
       }
      ],
      "container-title": "Digital Scholarship in the Humanities",
      "id": "4951909/ZVWDRAGM",
      "issue": "1",
      "issued": {
       "date-parts": [
        [
         2025
        ]
       ]
      },
      "page": "121-137",
      "system_id": "zotero|4951909/ZVWDRAGM",
      "title": "Approaches to Digital Humanities Pedagogy: A Systematic Literature Review within Educational Practice",
      "type": "article-journal",
      "volume": "40"
     }
    }
   },
   "style": "chicago-author-date.csl"
  },
  "kernelspec": {
   "display_name": "Python 3 (ipykernel)",
   "language": "python",
   "name": "python3"
  },
  "language_info": {
   "codemirror_mode": {
    "name": "ipython",
    "version": 3
   },
   "file_extension": ".py",
   "mimetype": "text/x-python",
   "name": "python",
   "nbconvert_exporter": "python",
   "pygments_lexer": "ipython3",
   "version": "3.11.9"
  },
  "toc": {
   "base_numbering": 1,
   "nav_menu": {},
   "number_sections": true,
   "sideBar": true,
   "skip_h1_title": false,
   "title_cell": "Table of Contents",
   "title_sidebar": "Contents",
   "toc_cell": false,
   "toc_position": {},
   "toc_section_display": true,
   "toc_window_display": false
  }
 },
 "nbformat": 4,
 "nbformat_minor": 4
}
